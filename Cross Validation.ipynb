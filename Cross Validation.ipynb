{
 "cells": [
  {
   "cell_type": "code",
   "execution_count": 1,
   "id": "75f8a841",
   "metadata": {},
   "outputs": [],
   "source": [
    "#import libraries \n",
    "import numpy as np\n",
    "import pandas as pd\n",
    "import seaborn as sns\n",
    "import matplotlib.pyplot as plt\n",
    "import warnings as w\n",
    "w.filterwarnings('ignore')"
   ]
  },
  {
   "cell_type": "code",
   "execution_count": 2,
   "id": "1b67d236",
   "metadata": {},
   "outputs": [],
   "source": [
    "df = pd.read_csv('new churn data.csv')"
   ]
  },
  {
   "cell_type": "code",
   "execution_count": 3,
   "id": "28b8cd5c",
   "metadata": {},
   "outputs": [
    {
     "data": {
      "text/html": [
       "<div>\n",
       "<style scoped>\n",
       "    .dataframe tbody tr th:only-of-type {\n",
       "        vertical-align: middle;\n",
       "    }\n",
       "\n",
       "    .dataframe tbody tr th {\n",
       "        vertical-align: top;\n",
       "    }\n",
       "\n",
       "    .dataframe thead th {\n",
       "        text-align: right;\n",
       "    }\n",
       "</style>\n",
       "<table border=\"1\" class=\"dataframe\">\n",
       "  <thead>\n",
       "    <tr style=\"text-align: right;\">\n",
       "      <th></th>\n",
       "      <th>Unnamed: 0</th>\n",
       "      <th>gender</th>\n",
       "      <th>SeniorCitizen</th>\n",
       "      <th>Partner</th>\n",
       "      <th>Dependents</th>\n",
       "      <th>tenure</th>\n",
       "      <th>PhoneService</th>\n",
       "      <th>MultipleLines</th>\n",
       "      <th>InternetService</th>\n",
       "      <th>OnlineSecurity</th>\n",
       "      <th>...</th>\n",
       "      <th>DeviceProtection</th>\n",
       "      <th>TechSupport</th>\n",
       "      <th>StreamingTV</th>\n",
       "      <th>StreamingMovies</th>\n",
       "      <th>Contract</th>\n",
       "      <th>PaperlessBilling</th>\n",
       "      <th>PaymentMethod</th>\n",
       "      <th>MonthlyCharges</th>\n",
       "      <th>TotalCharges</th>\n",
       "      <th>Churn</th>\n",
       "    </tr>\n",
       "  </thead>\n",
       "  <tbody>\n",
       "    <tr>\n",
       "      <th>0</th>\n",
       "      <td>6607</td>\n",
       "      <td>1</td>\n",
       "      <td>0</td>\n",
       "      <td>0</td>\n",
       "      <td>1</td>\n",
       "      <td>1</td>\n",
       "      <td>0</td>\n",
       "      <td>1</td>\n",
       "      <td>0</td>\n",
       "      <td>0</td>\n",
       "      <td>...</td>\n",
       "      <td>0</td>\n",
       "      <td>0</td>\n",
       "      <td>0</td>\n",
       "      <td>0</td>\n",
       "      <td>0</td>\n",
       "      <td>1</td>\n",
       "      <td>2</td>\n",
       "      <td>25.30</td>\n",
       "      <td>2153</td>\n",
       "      <td>1</td>\n",
       "    </tr>\n",
       "    <tr>\n",
       "      <th>1</th>\n",
       "      <td>2598</td>\n",
       "      <td>0</td>\n",
       "      <td>0</td>\n",
       "      <td>0</td>\n",
       "      <td>0</td>\n",
       "      <td>7</td>\n",
       "      <td>1</td>\n",
       "      <td>0</td>\n",
       "      <td>1</td>\n",
       "      <td>0</td>\n",
       "      <td>...</td>\n",
       "      <td>2</td>\n",
       "      <td>0</td>\n",
       "      <td>0</td>\n",
       "      <td>0</td>\n",
       "      <td>0</td>\n",
       "      <td>1</td>\n",
       "      <td>2</td>\n",
       "      <td>75.15</td>\n",
       "      <td>4396</td>\n",
       "      <td>0</td>\n",
       "    </tr>\n",
       "    <tr>\n",
       "      <th>2</th>\n",
       "      <td>2345</td>\n",
       "      <td>0</td>\n",
       "      <td>0</td>\n",
       "      <td>0</td>\n",
       "      <td>1</td>\n",
       "      <td>4</td>\n",
       "      <td>1</td>\n",
       "      <td>0</td>\n",
       "      <td>2</td>\n",
       "      <td>1</td>\n",
       "      <td>...</td>\n",
       "      <td>1</td>\n",
       "      <td>1</td>\n",
       "      <td>1</td>\n",
       "      <td>1</td>\n",
       "      <td>0</td>\n",
       "      <td>1</td>\n",
       "      <td>0</td>\n",
       "      <td>20.05</td>\n",
       "      <td>6211</td>\n",
       "      <td>0</td>\n",
       "    </tr>\n",
       "    <tr>\n",
       "      <th>3</th>\n",
       "      <td>4093</td>\n",
       "      <td>0</td>\n",
       "      <td>0</td>\n",
       "      <td>0</td>\n",
       "      <td>0</td>\n",
       "      <td>29</td>\n",
       "      <td>1</td>\n",
       "      <td>2</td>\n",
       "      <td>1</td>\n",
       "      <td>0</td>\n",
       "      <td>...</td>\n",
       "      <td>0</td>\n",
       "      <td>0</td>\n",
       "      <td>0</td>\n",
       "      <td>0</td>\n",
       "      <td>0</td>\n",
       "      <td>1</td>\n",
       "      <td>1</td>\n",
       "      <td>76.00</td>\n",
       "      <td>1850</td>\n",
       "      <td>0</td>\n",
       "    </tr>\n",
       "    <tr>\n",
       "      <th>4</th>\n",
       "      <td>693</td>\n",
       "      <td>0</td>\n",
       "      <td>0</td>\n",
       "      <td>0</td>\n",
       "      <td>0</td>\n",
       "      <td>3</td>\n",
       "      <td>1</td>\n",
       "      <td>2</td>\n",
       "      <td>1</td>\n",
       "      <td>0</td>\n",
       "      <td>...</td>\n",
       "      <td>0</td>\n",
       "      <td>0</td>\n",
       "      <td>0</td>\n",
       "      <td>0</td>\n",
       "      <td>0</td>\n",
       "      <td>1</td>\n",
       "      <td>1</td>\n",
       "      <td>75.10</td>\n",
       "      <td>2350</td>\n",
       "      <td>1</td>\n",
       "    </tr>\n",
       "  </tbody>\n",
       "</table>\n",
       "<p>5 rows × 21 columns</p>\n",
       "</div>"
      ],
      "text/plain": [
       "   Unnamed: 0  gender  SeniorCitizen  Partner  Dependents  tenure  \\\n",
       "0        6607       1              0        0           1       1   \n",
       "1        2598       0              0        0           0       7   \n",
       "2        2345       0              0        0           1       4   \n",
       "3        4093       0              0        0           0      29   \n",
       "4         693       0              0        0           0       3   \n",
       "\n",
       "   PhoneService  MultipleLines  InternetService  OnlineSecurity  ...  \\\n",
       "0             0              1                0               0  ...   \n",
       "1             1              0                1               0  ...   \n",
       "2             1              0                2               1  ...   \n",
       "3             1              2                1               0  ...   \n",
       "4             1              2                1               0  ...   \n",
       "\n",
       "   DeviceProtection  TechSupport  StreamingTV  StreamingMovies  Contract  \\\n",
       "0                 0            0            0                0         0   \n",
       "1                 2            0            0                0         0   \n",
       "2                 1            1            1                1         0   \n",
       "3                 0            0            0                0         0   \n",
       "4                 0            0            0                0         0   \n",
       "\n",
       "   PaperlessBilling  PaymentMethod  MonthlyCharges  TotalCharges  Churn  \n",
       "0                 1              2           25.30          2153      1  \n",
       "1                 1              2           75.15          4396      0  \n",
       "2                 1              0           20.05          6211      0  \n",
       "3                 1              1           76.00          1850      0  \n",
       "4                 1              1           75.10          2350      1  \n",
       "\n",
       "[5 rows x 21 columns]"
      ]
     },
     "execution_count": 3,
     "metadata": {},
     "output_type": "execute_result"
    }
   ],
   "source": [
    "df.head()"
   ]
  },
  {
   "cell_type": "code",
   "execution_count": 4,
   "id": "6b12661a",
   "metadata": {},
   "outputs": [
    {
     "data": {
      "text/plain": [
       "(5282, 21)"
      ]
     },
     "execution_count": 4,
     "metadata": {},
     "output_type": "execute_result"
    }
   ],
   "source": [
    "df.shape"
   ]
  },
  {
   "cell_type": "code",
   "execution_count": 5,
   "id": "d75637b1",
   "metadata": {},
   "outputs": [
    {
     "data": {
      "text/plain": [
       "<bound method DataFrame.info of       Unnamed: 0  gender  SeniorCitizen  Partner  Dependents  tenure  \\\n",
       "0           6607       1              0        0           1       1   \n",
       "1           2598       0              0        0           0       7   \n",
       "2           2345       0              0        0           1       4   \n",
       "3           4093       0              0        0           0      29   \n",
       "4            693       0              0        0           0       3   \n",
       "...          ...     ...            ...      ...         ...     ...   \n",
       "5277        3772       1              0        1           0       1   \n",
       "5278        5191       0              0        1           1      23   \n",
       "5279        5226       1              0        1           1      12   \n",
       "5280        5390       1              1        0           0      12   \n",
       "5281         860       1              0        0           0      26   \n",
       "\n",
       "      PhoneService  MultipleLines  InternetService  OnlineSecurity  ...  \\\n",
       "0                0              1                0               0  ...   \n",
       "1                1              0                1               0  ...   \n",
       "2                1              0                2               1  ...   \n",
       "3                1              2                1               0  ...   \n",
       "4                1              2                1               0  ...   \n",
       "...            ...            ...              ...             ...  ...   \n",
       "5277             1              0                1               2  ...   \n",
       "5278             1              2                0               2  ...   \n",
       "5279             1              0                2               1  ...   \n",
       "5280             1              2                1               0  ...   \n",
       "5281             1              0                2               1  ...   \n",
       "\n",
       "      DeviceProtection  TechSupport  StreamingTV  StreamingMovies  Contract  \\\n",
       "0                    0            0            0                0         0   \n",
       "1                    2            0            0                0         0   \n",
       "2                    1            1            1                1         0   \n",
       "3                    0            0            0                0         0   \n",
       "4                    0            0            0                0         0   \n",
       "...                ...          ...          ...              ...       ...   \n",
       "5277                 0            0            2                2         0   \n",
       "5278                 2            2            2                2         2   \n",
       "5279                 1            1            1                1         0   \n",
       "5280                 2            0            2                2         0   \n",
       "5281                 1            1            1                1         1   \n",
       "\n",
       "      PaperlessBilling  PaymentMethod  MonthlyCharges  TotalCharges  Churn  \n",
       "0                    1              2           25.30          2153      1  \n",
       "1                    1              2           75.15          4396      0  \n",
       "2                    1              0           20.05          6211      0  \n",
       "3                    1              1           76.00          1850      0  \n",
       "4                    1              1           75.10          2350      1  \n",
       "...                ...            ...             ...           ...    ...  \n",
       "5277                 1              2           95.00          6440      1  \n",
       "5278                 1              1           91.10          1819      0  \n",
       "5279                 1              2           21.15          2659      0  \n",
       "5280                 1              2           99.45           370      1  \n",
       "5281                 0              1           19.80          3890      0  \n",
       "\n",
       "[5282 rows x 21 columns]>"
      ]
     },
     "execution_count": 5,
     "metadata": {},
     "output_type": "execute_result"
    }
   ],
   "source": [
    "df.info"
   ]
  },
  {
   "cell_type": "code",
   "execution_count": 6,
   "id": "e3759b78",
   "metadata": {},
   "outputs": [
    {
     "data": {
      "text/plain": [
       "0    3892\n",
       "1    1390\n",
       "Name: Churn, dtype: int64"
      ]
     },
     "execution_count": 6,
     "metadata": {},
     "output_type": "execute_result"
    }
   ],
   "source": [
    "df.Churn.value_counts()"
   ]
  },
  {
   "cell_type": "code",
   "execution_count": 7,
   "id": "22a63e25",
   "metadata": {},
   "outputs": [
    {
     "data": {
      "text/plain": [
       "Unnamed: 0          0\n",
       "gender              0\n",
       "SeniorCitizen       0\n",
       "Partner             0\n",
       "Dependents          0\n",
       "tenure              0\n",
       "PhoneService        0\n",
       "MultipleLines       0\n",
       "InternetService     0\n",
       "OnlineSecurity      0\n",
       "OnlineBackup        0\n",
       "DeviceProtection    0\n",
       "TechSupport         0\n",
       "StreamingTV         0\n",
       "StreamingMovies     0\n",
       "Contract            0\n",
       "PaperlessBilling    0\n",
       "PaymentMethod       0\n",
       "MonthlyCharges      0\n",
       "TotalCharges        0\n",
       "Churn               0\n",
       "dtype: int64"
      ]
     },
     "execution_count": 7,
     "metadata": {},
     "output_type": "execute_result"
    }
   ],
   "source": [
    "df.isnull().sum()"
   ]
  },
  {
   "cell_type": "markdown",
   "id": "a6af0e74",
   "metadata": {},
   "source": [
    "# Task:1"
   ]
  },
  {
   "cell_type": "code",
   "execution_count": 8,
   "id": "1d754831",
   "metadata": {},
   "outputs": [],
   "source": [
    "#Task:1 Analysis the dataset using seaborn / matplotlib / scatter"
   ]
  },
  {
   "cell_type": "code",
   "execution_count": 9,
   "id": "dccf2685",
   "metadata": {},
   "outputs": [
    {
     "data": {
      "text/plain": [
       "Index(['Unnamed: 0', 'gender', 'SeniorCitizen', 'Partner', 'Dependents',\n",
       "       'tenure', 'PhoneService', 'MultipleLines', 'InternetService',\n",
       "       'OnlineSecurity', 'OnlineBackup', 'DeviceProtection', 'TechSupport',\n",
       "       'StreamingTV', 'StreamingMovies', 'Contract', 'PaperlessBilling',\n",
       "       'PaymentMethod', 'MonthlyCharges', 'TotalCharges', 'Churn'],\n",
       "      dtype='object')"
      ]
     },
     "execution_count": 9,
     "metadata": {},
     "output_type": "execute_result"
    }
   ],
   "source": [
    "df.columns"
   ]
  },
  {
   "cell_type": "code",
   "execution_count": 10,
   "id": "d534f38a",
   "metadata": {},
   "outputs": [],
   "source": [
    "#df.rename(columns = {'Unnamed: 0': 'ID'},inplace = True)"
   ]
  },
  {
   "cell_type": "code",
   "execution_count": 11,
   "id": "ad09d359",
   "metadata": {},
   "outputs": [
    {
     "data": {
      "text/html": [
       "<div>\n",
       "<style scoped>\n",
       "    .dataframe tbody tr th:only-of-type {\n",
       "        vertical-align: middle;\n",
       "    }\n",
       "\n",
       "    .dataframe tbody tr th {\n",
       "        vertical-align: top;\n",
       "    }\n",
       "\n",
       "    .dataframe thead th {\n",
       "        text-align: right;\n",
       "    }\n",
       "</style>\n",
       "<table border=\"1\" class=\"dataframe\">\n",
       "  <thead>\n",
       "    <tr style=\"text-align: right;\">\n",
       "      <th></th>\n",
       "      <th>gender</th>\n",
       "      <th>SeniorCitizen</th>\n",
       "      <th>Partner</th>\n",
       "      <th>Dependents</th>\n",
       "      <th>tenure</th>\n",
       "      <th>PhoneService</th>\n",
       "      <th>MultipleLines</th>\n",
       "      <th>InternetService</th>\n",
       "      <th>OnlineSecurity</th>\n",
       "      <th>OnlineBackup</th>\n",
       "      <th>DeviceProtection</th>\n",
       "      <th>TechSupport</th>\n",
       "      <th>StreamingTV</th>\n",
       "      <th>StreamingMovies</th>\n",
       "      <th>Contract</th>\n",
       "      <th>PaperlessBilling</th>\n",
       "      <th>PaymentMethod</th>\n",
       "      <th>MonthlyCharges</th>\n",
       "      <th>TotalCharges</th>\n",
       "      <th>Churn</th>\n",
       "    </tr>\n",
       "  </thead>\n",
       "  <tbody>\n",
       "    <tr>\n",
       "      <th>0</th>\n",
       "      <td>1</td>\n",
       "      <td>0</td>\n",
       "      <td>0</td>\n",
       "      <td>1</td>\n",
       "      <td>1</td>\n",
       "      <td>0</td>\n",
       "      <td>1</td>\n",
       "      <td>0</td>\n",
       "      <td>0</td>\n",
       "      <td>0</td>\n",
       "      <td>0</td>\n",
       "      <td>0</td>\n",
       "      <td>0</td>\n",
       "      <td>0</td>\n",
       "      <td>0</td>\n",
       "      <td>1</td>\n",
       "      <td>2</td>\n",
       "      <td>25.30</td>\n",
       "      <td>2153</td>\n",
       "      <td>1</td>\n",
       "    </tr>\n",
       "    <tr>\n",
       "      <th>1</th>\n",
       "      <td>0</td>\n",
       "      <td>0</td>\n",
       "      <td>0</td>\n",
       "      <td>0</td>\n",
       "      <td>7</td>\n",
       "      <td>1</td>\n",
       "      <td>0</td>\n",
       "      <td>1</td>\n",
       "      <td>0</td>\n",
       "      <td>0</td>\n",
       "      <td>2</td>\n",
       "      <td>0</td>\n",
       "      <td>0</td>\n",
       "      <td>0</td>\n",
       "      <td>0</td>\n",
       "      <td>1</td>\n",
       "      <td>2</td>\n",
       "      <td>75.15</td>\n",
       "      <td>4396</td>\n",
       "      <td>0</td>\n",
       "    </tr>\n",
       "    <tr>\n",
       "      <th>2</th>\n",
       "      <td>0</td>\n",
       "      <td>0</td>\n",
       "      <td>0</td>\n",
       "      <td>1</td>\n",
       "      <td>4</td>\n",
       "      <td>1</td>\n",
       "      <td>0</td>\n",
       "      <td>2</td>\n",
       "      <td>1</td>\n",
       "      <td>1</td>\n",
       "      <td>1</td>\n",
       "      <td>1</td>\n",
       "      <td>1</td>\n",
       "      <td>1</td>\n",
       "      <td>0</td>\n",
       "      <td>1</td>\n",
       "      <td>0</td>\n",
       "      <td>20.05</td>\n",
       "      <td>6211</td>\n",
       "      <td>0</td>\n",
       "    </tr>\n",
       "    <tr>\n",
       "      <th>3</th>\n",
       "      <td>0</td>\n",
       "      <td>0</td>\n",
       "      <td>0</td>\n",
       "      <td>0</td>\n",
       "      <td>29</td>\n",
       "      <td>1</td>\n",
       "      <td>2</td>\n",
       "      <td>1</td>\n",
       "      <td>0</td>\n",
       "      <td>0</td>\n",
       "      <td>0</td>\n",
       "      <td>0</td>\n",
       "      <td>0</td>\n",
       "      <td>0</td>\n",
       "      <td>0</td>\n",
       "      <td>1</td>\n",
       "      <td>1</td>\n",
       "      <td>76.00</td>\n",
       "      <td>1850</td>\n",
       "      <td>0</td>\n",
       "    </tr>\n",
       "    <tr>\n",
       "      <th>4</th>\n",
       "      <td>0</td>\n",
       "      <td>0</td>\n",
       "      <td>0</td>\n",
       "      <td>0</td>\n",
       "      <td>3</td>\n",
       "      <td>1</td>\n",
       "      <td>2</td>\n",
       "      <td>1</td>\n",
       "      <td>0</td>\n",
       "      <td>0</td>\n",
       "      <td>0</td>\n",
       "      <td>0</td>\n",
       "      <td>0</td>\n",
       "      <td>0</td>\n",
       "      <td>0</td>\n",
       "      <td>1</td>\n",
       "      <td>1</td>\n",
       "      <td>75.10</td>\n",
       "      <td>2350</td>\n",
       "      <td>1</td>\n",
       "    </tr>\n",
       "    <tr>\n",
       "      <th>...</th>\n",
       "      <td>...</td>\n",
       "      <td>...</td>\n",
       "      <td>...</td>\n",
       "      <td>...</td>\n",
       "      <td>...</td>\n",
       "      <td>...</td>\n",
       "      <td>...</td>\n",
       "      <td>...</td>\n",
       "      <td>...</td>\n",
       "      <td>...</td>\n",
       "      <td>...</td>\n",
       "      <td>...</td>\n",
       "      <td>...</td>\n",
       "      <td>...</td>\n",
       "      <td>...</td>\n",
       "      <td>...</td>\n",
       "      <td>...</td>\n",
       "      <td>...</td>\n",
       "      <td>...</td>\n",
       "      <td>...</td>\n",
       "    </tr>\n",
       "    <tr>\n",
       "      <th>5277</th>\n",
       "      <td>1</td>\n",
       "      <td>0</td>\n",
       "      <td>1</td>\n",
       "      <td>0</td>\n",
       "      <td>1</td>\n",
       "      <td>1</td>\n",
       "      <td>0</td>\n",
       "      <td>1</td>\n",
       "      <td>2</td>\n",
       "      <td>0</td>\n",
       "      <td>0</td>\n",
       "      <td>0</td>\n",
       "      <td>2</td>\n",
       "      <td>2</td>\n",
       "      <td>0</td>\n",
       "      <td>1</td>\n",
       "      <td>2</td>\n",
       "      <td>95.00</td>\n",
       "      <td>6440</td>\n",
       "      <td>1</td>\n",
       "    </tr>\n",
       "    <tr>\n",
       "      <th>5278</th>\n",
       "      <td>0</td>\n",
       "      <td>0</td>\n",
       "      <td>1</td>\n",
       "      <td>1</td>\n",
       "      <td>23</td>\n",
       "      <td>1</td>\n",
       "      <td>2</td>\n",
       "      <td>0</td>\n",
       "      <td>2</td>\n",
       "      <td>2</td>\n",
       "      <td>2</td>\n",
       "      <td>2</td>\n",
       "      <td>2</td>\n",
       "      <td>2</td>\n",
       "      <td>2</td>\n",
       "      <td>1</td>\n",
       "      <td>1</td>\n",
       "      <td>91.10</td>\n",
       "      <td>1819</td>\n",
       "      <td>0</td>\n",
       "    </tr>\n",
       "    <tr>\n",
       "      <th>5279</th>\n",
       "      <td>1</td>\n",
       "      <td>0</td>\n",
       "      <td>1</td>\n",
       "      <td>1</td>\n",
       "      <td>12</td>\n",
       "      <td>1</td>\n",
       "      <td>0</td>\n",
       "      <td>2</td>\n",
       "      <td>1</td>\n",
       "      <td>1</td>\n",
       "      <td>1</td>\n",
       "      <td>1</td>\n",
       "      <td>1</td>\n",
       "      <td>1</td>\n",
       "      <td>0</td>\n",
       "      <td>1</td>\n",
       "      <td>2</td>\n",
       "      <td>21.15</td>\n",
       "      <td>2659</td>\n",
       "      <td>0</td>\n",
       "    </tr>\n",
       "    <tr>\n",
       "      <th>5280</th>\n",
       "      <td>1</td>\n",
       "      <td>1</td>\n",
       "      <td>0</td>\n",
       "      <td>0</td>\n",
       "      <td>12</td>\n",
       "      <td>1</td>\n",
       "      <td>2</td>\n",
       "      <td>1</td>\n",
       "      <td>0</td>\n",
       "      <td>0</td>\n",
       "      <td>2</td>\n",
       "      <td>0</td>\n",
       "      <td>2</td>\n",
       "      <td>2</td>\n",
       "      <td>0</td>\n",
       "      <td>1</td>\n",
       "      <td>2</td>\n",
       "      <td>99.45</td>\n",
       "      <td>370</td>\n",
       "      <td>1</td>\n",
       "    </tr>\n",
       "    <tr>\n",
       "      <th>5281</th>\n",
       "      <td>1</td>\n",
       "      <td>0</td>\n",
       "      <td>0</td>\n",
       "      <td>0</td>\n",
       "      <td>26</td>\n",
       "      <td>1</td>\n",
       "      <td>0</td>\n",
       "      <td>2</td>\n",
       "      <td>1</td>\n",
       "      <td>1</td>\n",
       "      <td>1</td>\n",
       "      <td>1</td>\n",
       "      <td>1</td>\n",
       "      <td>1</td>\n",
       "      <td>1</td>\n",
       "      <td>0</td>\n",
       "      <td>1</td>\n",
       "      <td>19.80</td>\n",
       "      <td>3890</td>\n",
       "      <td>0</td>\n",
       "    </tr>\n",
       "  </tbody>\n",
       "</table>\n",
       "<p>5282 rows × 20 columns</p>\n",
       "</div>"
      ],
      "text/plain": [
       "      gender  SeniorCitizen  Partner  Dependents  tenure  PhoneService  \\\n",
       "0          1              0        0           1       1             0   \n",
       "1          0              0        0           0       7             1   \n",
       "2          0              0        0           1       4             1   \n",
       "3          0              0        0           0      29             1   \n",
       "4          0              0        0           0       3             1   \n",
       "...      ...            ...      ...         ...     ...           ...   \n",
       "5277       1              0        1           0       1             1   \n",
       "5278       0              0        1           1      23             1   \n",
       "5279       1              0        1           1      12             1   \n",
       "5280       1              1        0           0      12             1   \n",
       "5281       1              0        0           0      26             1   \n",
       "\n",
       "      MultipleLines  InternetService  OnlineSecurity  OnlineBackup  \\\n",
       "0                 1                0               0             0   \n",
       "1                 0                1               0             0   \n",
       "2                 0                2               1             1   \n",
       "3                 2                1               0             0   \n",
       "4                 2                1               0             0   \n",
       "...             ...              ...             ...           ...   \n",
       "5277              0                1               2             0   \n",
       "5278              2                0               2             2   \n",
       "5279              0                2               1             1   \n",
       "5280              2                1               0             0   \n",
       "5281              0                2               1             1   \n",
       "\n",
       "      DeviceProtection  TechSupport  StreamingTV  StreamingMovies  Contract  \\\n",
       "0                    0            0            0                0         0   \n",
       "1                    2            0            0                0         0   \n",
       "2                    1            1            1                1         0   \n",
       "3                    0            0            0                0         0   \n",
       "4                    0            0            0                0         0   \n",
       "...                ...          ...          ...              ...       ...   \n",
       "5277                 0            0            2                2         0   \n",
       "5278                 2            2            2                2         2   \n",
       "5279                 1            1            1                1         0   \n",
       "5280                 2            0            2                2         0   \n",
       "5281                 1            1            1                1         1   \n",
       "\n",
       "      PaperlessBilling  PaymentMethod  MonthlyCharges  TotalCharges  Churn  \n",
       "0                    1              2           25.30          2153      1  \n",
       "1                    1              2           75.15          4396      0  \n",
       "2                    1              0           20.05          6211      0  \n",
       "3                    1              1           76.00          1850      0  \n",
       "4                    1              1           75.10          2350      1  \n",
       "...                ...            ...             ...           ...    ...  \n",
       "5277                 1              2           95.00          6440      1  \n",
       "5278                 1              1           91.10          1819      0  \n",
       "5279                 1              2           21.15          2659      0  \n",
       "5280                 1              2           99.45           370      1  \n",
       "5281                 0              1           19.80          3890      0  \n",
       "\n",
       "[5282 rows x 20 columns]"
      ]
     },
     "execution_count": 11,
     "metadata": {},
     "output_type": "execute_result"
    }
   ],
   "source": [
    "df.drop('Unnamed: 0', axis=1, inplace=True)\n",
    "df"
   ]
  },
  {
   "cell_type": "markdown",
   "id": "8f59c7c5",
   "metadata": {},
   "source": [
    "# Exploratory Dta Analysis"
   ]
  },
  {
   "cell_type": "code",
   "execution_count": 12,
   "id": "6b54b6e3",
   "metadata": {},
   "outputs": [
    {
     "data": {
      "text/plain": [
       "<AxesSubplot:>"
      ]
     },
     "execution_count": 12,
     "metadata": {},
     "output_type": "execute_result"
    },
    {
     "data": {
      "image/png": "[encoded data removed]",
      "text/plain": [
       "<Figure size 1152x864 with 2 Axes>"
      ]
     },
     "metadata": {
      "needs_background": "light"
     },
     "output_type": "display_data"
    }
   ],
   "source": [
    "plt.figure(figsize=(16,12))\n",
    "sns.heatmap(df.corr(),annot=True)"
   ]
  },
  {
   "cell_type": "code",
   "execution_count": 13,
   "id": "c50eb9f6",
   "metadata": {},
   "outputs": [
    {
     "data": {
      "text/plain": [
       "<AxesSubplot:xlabel='Churn', ylabel='count'>"
      ]
     },
     "execution_count": 13,
     "metadata": {},
     "output_type": "execute_result"
    },
    {
     "data": {
      "image/png": "[encoded data removed]",
      "text/plain": [
       "<Figure size 432x288 with 1 Axes>"
      ]
     },
     "metadata": {
      "needs_background": "light"
     },
     "output_type": "display_data"
    }
   ],
   "source": [
    "sns.countplot(df['Churn'],color=\"cyan\")"
   ]
  },
  {
   "cell_type": "code",
   "execution_count": 14,
   "id": "a8bdc37a",
   "metadata": {},
   "outputs": [
    {
     "data": {
      "text/plain": [
       "<AxesSubplot:xlabel='count', ylabel='gender'>"
      ]
     },
     "execution_count": 14,
     "metadata": {},
     "output_type": "execute_result"
    },
    {
     "data": {
      "image/png": "[encoded data removed]",
      "text/plain": [
       "<Figure size 432x288 with 1 Axes>"
      ]
     },
     "metadata": {
      "needs_background": "light"
     },
     "output_type": "display_data"
    }
   ],
   "source": [
    "sns.countplot(y='gender',hue='Churn',data=df)"
   ]
  },
  {
   "cell_type": "code",
   "execution_count": 15,
   "id": "cc3d75fd",
   "metadata": {},
   "outputs": [
    {
     "data": {
      "text/plain": [
       "<AxesSubplot:xlabel='gender', ylabel='count'>"
      ]
     },
     "execution_count": 15,
     "metadata": {},
     "output_type": "execute_result"
    },
    {
     "data": {
      "image/png": "[encoded data removed]",
      "text/plain": [
       "<Figure size 432x288 with 1 Axes>"
      ]
     },
     "metadata": {
      "needs_background": "light"
     },
     "output_type": "display_data"
    }
   ],
   "source": [
    "sns.countplot(x='gender',hue='Churn',data=df)"
   ]
  },
  {
   "cell_type": "code",
   "execution_count": 16,
   "id": "9e32560e",
   "metadata": {},
   "outputs": [
    {
     "data": {
      "text/plain": [
       "Index(['gender', 'SeniorCitizen', 'Partner', 'Dependents', 'tenure',\n",
       "       'PhoneService', 'MultipleLines', 'InternetService', 'OnlineSecurity',\n",
       "       'OnlineBackup', 'DeviceProtection', 'TechSupport', 'StreamingTV',\n",
       "       'StreamingMovies', 'Contract', 'PaperlessBilling', 'PaymentMethod',\n",
       "       'MonthlyCharges', 'TotalCharges', 'Churn'],\n",
       "      dtype='object')"
      ]
     },
     "execution_count": 16,
     "metadata": {},
     "output_type": "execute_result"
    }
   ],
   "source": [
    "df.columns"
   ]
  },
  {
   "cell_type": "code",
   "execution_count": 17,
   "id": "1ed6c8a6",
   "metadata": {},
   "outputs": [],
   "source": [
    "parameter=['gender','SeniorCitizen', 'Partner', 'Dependents', 'tenure',\n",
    "       'PhoneService', 'MultipleLines', 'InternetService', 'OnlineSecurity',\n",
    "       'OnlineBackup', 'DeviceProtection', 'TechSupport', 'StreamingTV',\n",
    "       'StreamingMovies', 'Contract', 'PaperlessBilling', 'PaymentMethod',\n",
    "       'MonthlyCharges']"
   ]
  },
  {
   "cell_type": "code",
   "execution_count": 18,
   "id": "edbb0538",
   "metadata": {},
   "outputs": [
    {
     "data": {
      "image/png": "[encoded data removed]",
      "text/plain": [
       "<Figure size 1440x2880 with 18 Axes>"
      ]
     },
     "metadata": {
      "needs_background": "light"
     },
     "output_type": "display_data"
    }
   ],
   "source": [
    "plt.figure(figsize=(20,40))\n",
    "for i in range(1,19):\n",
    "\n",
    "    plt.subplot(6,3,i)\n",
    "    sns.countplot(x=parameter[i-1],hue='Churn',data=df)"
   ]
  },
  {
   "cell_type": "markdown",
   "id": "478eddeb",
   "metadata": {},
   "source": [
    "# Separate X/Y values"
   ]
  },
  {
   "cell_type": "code",
   "execution_count": 19,
   "id": "ddfa5ba8",
   "metadata": {},
   "outputs": [],
   "source": [
    "x=df.drop('Churn',axis=1)"
   ]
  },
  {
   "cell_type": "code",
   "execution_count": 20,
   "id": "af2289af",
   "metadata": {},
   "outputs": [
    {
     "data": {
      "text/plain": [
       "(5282, 20)"
      ]
     },
     "execution_count": 20,
     "metadata": {},
     "output_type": "execute_result"
    }
   ],
   "source": [
    "df.shape"
   ]
  },
  {
   "cell_type": "code",
   "execution_count": 21,
   "id": "01126a48",
   "metadata": {},
   "outputs": [
    {
     "data": {
      "text/html": [
       "<div>\n",
       "<style scoped>\n",
       "    .dataframe tbody tr th:only-of-type {\n",
       "        vertical-align: middle;\n",
       "    }\n",
       "\n",
       "    .dataframe tbody tr th {\n",
       "        vertical-align: top;\n",
       "    }\n",
       "\n",
       "    .dataframe thead th {\n",
       "        text-align: right;\n",
       "    }\n",
       "</style>\n",
       "<table border=\"1\" class=\"dataframe\">\n",
       "  <thead>\n",
       "    <tr style=\"text-align: right;\">\n",
       "      <th></th>\n",
       "      <th>gender</th>\n",
       "      <th>SeniorCitizen</th>\n",
       "      <th>Partner</th>\n",
       "      <th>Dependents</th>\n",
       "      <th>tenure</th>\n",
       "      <th>PhoneService</th>\n",
       "      <th>MultipleLines</th>\n",
       "      <th>InternetService</th>\n",
       "      <th>OnlineSecurity</th>\n",
       "      <th>OnlineBackup</th>\n",
       "      <th>DeviceProtection</th>\n",
       "      <th>TechSupport</th>\n",
       "      <th>StreamingTV</th>\n",
       "      <th>StreamingMovies</th>\n",
       "      <th>Contract</th>\n",
       "      <th>PaperlessBilling</th>\n",
       "      <th>PaymentMethod</th>\n",
       "      <th>MonthlyCharges</th>\n",
       "      <th>TotalCharges</th>\n",
       "      <th>Churn</th>\n",
       "    </tr>\n",
       "  </thead>\n",
       "  <tbody>\n",
       "    <tr>\n",
       "      <th>0</th>\n",
       "      <td>1</td>\n",
       "      <td>0</td>\n",
       "      <td>0</td>\n",
       "      <td>1</td>\n",
       "      <td>1</td>\n",
       "      <td>0</td>\n",
       "      <td>1</td>\n",
       "      <td>0</td>\n",
       "      <td>0</td>\n",
       "      <td>0</td>\n",
       "      <td>0</td>\n",
       "      <td>0</td>\n",
       "      <td>0</td>\n",
       "      <td>0</td>\n",
       "      <td>0</td>\n",
       "      <td>1</td>\n",
       "      <td>2</td>\n",
       "      <td>25.30</td>\n",
       "      <td>2153</td>\n",
       "      <td>1</td>\n",
       "    </tr>\n",
       "    <tr>\n",
       "      <th>1</th>\n",
       "      <td>0</td>\n",
       "      <td>0</td>\n",
       "      <td>0</td>\n",
       "      <td>0</td>\n",
       "      <td>7</td>\n",
       "      <td>1</td>\n",
       "      <td>0</td>\n",
       "      <td>1</td>\n",
       "      <td>0</td>\n",
       "      <td>0</td>\n",
       "      <td>2</td>\n",
       "      <td>0</td>\n",
       "      <td>0</td>\n",
       "      <td>0</td>\n",
       "      <td>0</td>\n",
       "      <td>1</td>\n",
       "      <td>2</td>\n",
       "      <td>75.15</td>\n",
       "      <td>4396</td>\n",
       "      <td>0</td>\n",
       "    </tr>\n",
       "    <tr>\n",
       "      <th>2</th>\n",
       "      <td>0</td>\n",
       "      <td>0</td>\n",
       "      <td>0</td>\n",
       "      <td>1</td>\n",
       "      <td>4</td>\n",
       "      <td>1</td>\n",
       "      <td>0</td>\n",
       "      <td>2</td>\n",
       "      <td>1</td>\n",
       "      <td>1</td>\n",
       "      <td>1</td>\n",
       "      <td>1</td>\n",
       "      <td>1</td>\n",
       "      <td>1</td>\n",
       "      <td>0</td>\n",
       "      <td>1</td>\n",
       "      <td>0</td>\n",
       "      <td>20.05</td>\n",
       "      <td>6211</td>\n",
       "      <td>0</td>\n",
       "    </tr>\n",
       "    <tr>\n",
       "      <th>3</th>\n",
       "      <td>0</td>\n",
       "      <td>0</td>\n",
       "      <td>0</td>\n",
       "      <td>0</td>\n",
       "      <td>29</td>\n",
       "      <td>1</td>\n",
       "      <td>2</td>\n",
       "      <td>1</td>\n",
       "      <td>0</td>\n",
       "      <td>0</td>\n",
       "      <td>0</td>\n",
       "      <td>0</td>\n",
       "      <td>0</td>\n",
       "      <td>0</td>\n",
       "      <td>0</td>\n",
       "      <td>1</td>\n",
       "      <td>1</td>\n",
       "      <td>76.00</td>\n",
       "      <td>1850</td>\n",
       "      <td>0</td>\n",
       "    </tr>\n",
       "    <tr>\n",
       "      <th>4</th>\n",
       "      <td>0</td>\n",
       "      <td>0</td>\n",
       "      <td>0</td>\n",
       "      <td>0</td>\n",
       "      <td>3</td>\n",
       "      <td>1</td>\n",
       "      <td>2</td>\n",
       "      <td>1</td>\n",
       "      <td>0</td>\n",
       "      <td>0</td>\n",
       "      <td>0</td>\n",
       "      <td>0</td>\n",
       "      <td>0</td>\n",
       "      <td>0</td>\n",
       "      <td>0</td>\n",
       "      <td>1</td>\n",
       "      <td>1</td>\n",
       "      <td>75.10</td>\n",
       "      <td>2350</td>\n",
       "      <td>1</td>\n",
       "    </tr>\n",
       "  </tbody>\n",
       "</table>\n",
       "</div>"
      ],
      "text/plain": [
       "   gender  SeniorCitizen  Partner  Dependents  tenure  PhoneService  \\\n",
       "0       1              0        0           1       1             0   \n",
       "1       0              0        0           0       7             1   \n",
       "2       0              0        0           1       4             1   \n",
       "3       0              0        0           0      29             1   \n",
       "4       0              0        0           0       3             1   \n",
       "\n",
       "   MultipleLines  InternetService  OnlineSecurity  OnlineBackup  \\\n",
       "0              1                0               0             0   \n",
       "1              0                1               0             0   \n",
       "2              0                2               1             1   \n",
       "3              2                1               0             0   \n",
       "4              2                1               0             0   \n",
       "\n",
       "   DeviceProtection  TechSupport  StreamingTV  StreamingMovies  Contract  \\\n",
       "0                 0            0            0                0         0   \n",
       "1                 2            0            0                0         0   \n",
       "2                 1            1            1                1         0   \n",
       "3                 0            0            0                0         0   \n",
       "4                 0            0            0                0         0   \n",
       "\n",
       "   PaperlessBilling  PaymentMethod  MonthlyCharges  TotalCharges  Churn  \n",
       "0                 1              2           25.30          2153      1  \n",
       "1                 1              2           75.15          4396      0  \n",
       "2                 1              0           20.05          6211      0  \n",
       "3                 1              1           76.00          1850      0  \n",
       "4                 1              1           75.10          2350      1  "
      ]
     },
     "execution_count": 21,
     "metadata": {},
     "output_type": "execute_result"
    }
   ],
   "source": [
    "df.head()"
   ]
  },
  {
   "cell_type": "code",
   "execution_count": 22,
   "id": "b1a1a40d",
   "metadata": {},
   "outputs": [],
   "source": [
    "y = df['Churn']"
   ]
  },
  {
   "cell_type": "code",
   "execution_count": 23,
   "id": "79fd9543",
   "metadata": {},
   "outputs": [
    {
     "data": {
      "text/plain": [
       "5282"
      ]
     },
     "execution_count": 23,
     "metadata": {},
     "output_type": "execute_result"
    }
   ],
   "source": [
    "len(y)"
   ]
  },
  {
   "cell_type": "code",
   "execution_count": 24,
   "id": "59ee8c3e",
   "metadata": {},
   "outputs": [
    {
     "data": {
      "text/plain": [
       "(5282, 19)"
      ]
     },
     "execution_count": 24,
     "metadata": {},
     "output_type": "execute_result"
    }
   ],
   "source": [
    "x=df.drop('Churn',axis=1)\n",
    "x.shape"
   ]
  },
  {
   "cell_type": "code",
   "execution_count": 25,
   "id": "71d63b6f",
   "metadata": {},
   "outputs": [
    {
     "data": {
      "text/plain": [
       "5282"
      ]
     },
     "execution_count": 25,
     "metadata": {},
     "output_type": "execute_result"
    }
   ],
   "source": [
    "y=df['Churn']\n",
    "len(y)"
   ]
  },
  {
   "cell_type": "markdown",
   "id": "7c8bb1fd",
   "metadata": {},
   "source": [
    "# Without Sampling"
   ]
  },
  {
   "cell_type": "code",
   "execution_count": 26,
   "id": "10224537",
   "metadata": {},
   "outputs": [],
   "source": [
    "from sklearn.model_selection import train_test_split "
   ]
  },
  {
   "cell_type": "code",
   "execution_count": 27,
   "id": "6b35f137",
   "metadata": {},
   "outputs": [],
   "source": [
    "xtrain,xtest,ytrain,ytest=train_test_split(x,y,train_size=0.75,random_state=42)"
   ]
  },
  {
   "cell_type": "markdown",
   "id": "a37313f5",
   "metadata": {},
   "source": [
    "# Decision Tree"
   ]
  },
  {
   "cell_type": "code",
   "execution_count": 28,
   "id": "46b62fa7",
   "metadata": {},
   "outputs": [],
   "source": [
    "from sklearn.tree import DecisionTreeClassifier"
   ]
  },
  {
   "cell_type": "code",
   "execution_count": 29,
   "id": "2920c0d9",
   "metadata": {},
   "outputs": [],
   "source": [
    "clf = DecisionTreeClassifier()"
   ]
  },
  {
   "cell_type": "markdown",
   "id": "3b5f6040",
   "metadata": {},
   "source": [
    "# XGBoost Classifier"
   ]
  },
  {
   "cell_type": "code",
   "execution_count": 30,
   "id": "e845930d",
   "metadata": {},
   "outputs": [],
   "source": [
    "import xgboost \n",
    "from xgboost import XGBClassifier"
   ]
  },
  {
   "cell_type": "code",
   "execution_count": 31,
   "id": "d7812e7c",
   "metadata": {},
   "outputs": [],
   "source": [
    "xgb = XGBClassifier()"
   ]
  },
  {
   "cell_type": "markdown",
   "id": "45212688",
   "metadata": {},
   "source": [
    "# Adaboost Classifier"
   ]
  },
  {
   "cell_type": "code",
   "execution_count": 32,
   "id": "b9312b2e",
   "metadata": {},
   "outputs": [],
   "source": [
    "from sklearn.ensemble import AdaBoostClassifier"
   ]
  },
  {
   "cell_type": "code",
   "execution_count": 33,
   "id": "cb0fffe0",
   "metadata": {},
   "outputs": [],
   "source": [
    "ada=AdaBoostClassifier()"
   ]
  },
  {
   "cell_type": "markdown",
   "id": "e254ee9c",
   "metadata": {},
   "source": [
    "# KNN Classifier"
   ]
  },
  {
   "cell_type": "code",
   "execution_count": 34,
   "id": "1ae970dc",
   "metadata": {},
   "outputs": [],
   "source": [
    "from sklearn.neighbors import KNeighborsClassifier"
   ]
  },
  {
   "cell_type": "code",
   "execution_count": 35,
   "id": "590054d6",
   "metadata": {},
   "outputs": [],
   "source": [
    "neigh=KNeighborsClassifier(n_neighbors= 50)"
   ]
  },
  {
   "cell_type": "markdown",
   "id": "a7717fbb",
   "metadata": {},
   "source": [
    "# LogisticRegression"
   ]
  },
  {
   "cell_type": "code",
   "execution_count": 36,
   "id": "fe9ca7d3",
   "metadata": {},
   "outputs": [],
   "source": [
    "from sklearn.linear_model import LogisticRegression"
   ]
  },
  {
   "cell_type": "code",
   "execution_count": 37,
   "id": "503465d7",
   "metadata": {},
   "outputs": [],
   "source": [
    "log=LogisticRegression()"
   ]
  },
  {
   "cell_type": "markdown",
   "id": "0f745e08",
   "metadata": {},
   "source": [
    "# Accuracy function"
   ]
  },
  {
   "cell_type": "code",
   "execution_count": 38,
   "id": "a2b6fabe",
   "metadata": {},
   "outputs": [],
   "source": [
    "def model(xtrain,ytrain,xtest,ytest):\n",
    "    model_name=['LogisticRegression','KNNClaccification','AdaBoostClassifier','DecisionTreeClassifier','XGBClassifier']\n",
    "    accuracy=[]\n",
    "    #LogisticRegression\n",
    "    log.fit(xtrain,ytrain)\n",
    "    accuracy.append(log.score(xtest,ytest))\n",
    "    #KNNClassification\n",
    "    neigh.fit(xtrain,ytrain)\n",
    "    accuracy.append(neigh.score(xtest,ytest))\n",
    "    #AdaBoostClassification\n",
    "    ada.fit(xtrain,ytrain)\n",
    "    accuracy.append(ada.score(xtest,ytest))\n",
    "    #DecisionTreeClassifier\n",
    "    clf.fit(xtrain,ytrain)\n",
    "    accuracy.append(clf.score(xtest,ytest))\n",
    "    #XGBClassifier\n",
    "    xgb.fit(xtrain,ytrain)\n",
    "    accuracy.append(clf.score(xtest,ytest))\n",
    "\n",
    "    \n",
    "    return model_name,accuracy"
   ]
  },
  {
   "cell_type": "code",
   "execution_count": 39,
   "id": "e126b5b3",
   "metadata": {},
   "outputs": [],
   "source": [
    "model_name,wosamp_acc=model(xtrain,ytrain,xtest,ytest)"
   ]
  },
  {
   "cell_type": "markdown",
   "id": "4d0248dc",
   "metadata": {},
   "source": [
    "# Dataframe function"
   ]
  },
  {
   "cell_type": "code",
   "execution_count": 40,
   "id": "cc99f627",
   "metadata": {},
   "outputs": [],
   "source": [
    "def dataframe(y):\n",
    "    vis={'Algorithm':['LogisticRegression','KNNClaccification','AdaBoostClassifier','DecisionTreeClassifier','XGBClassifier'],\n",
    "     'Accuracy':y\n",
    "     \n",
    "    } \n",
    "    accuracy=pd.DataFrame(vis)\n",
    "    return accuracy"
   ]
  },
  {
   "cell_type": "code",
   "execution_count": 41,
   "id": "b98511df",
   "metadata": {},
   "outputs": [],
   "source": [
    "final_df=pd.DataFrame({\n",
    "    'Algorithm':['LogisticRegression','KNNClaccification','AdaBoostClassifier','DecisionTreeClassifier','XGBClassifier']\n",
    "    \n",
    "})"
   ]
  },
  {
   "cell_type": "code",
   "execution_count": 42,
   "id": "5dc501fd",
   "metadata": {},
   "outputs": [
    {
     "data": {
      "text/html": [
       "<div>\n",
       "<style scoped>\n",
       "    .dataframe tbody tr th:only-of-type {\n",
       "        vertical-align: middle;\n",
       "    }\n",
       "\n",
       "    .dataframe tbody tr th {\n",
       "        vertical-align: top;\n",
       "    }\n",
       "\n",
       "    .dataframe thead th {\n",
       "        text-align: right;\n",
       "    }\n",
       "</style>\n",
       "<table border=\"1\" class=\"dataframe\">\n",
       "  <thead>\n",
       "    <tr style=\"text-align: right;\">\n",
       "      <th></th>\n",
       "      <th>Algorithm</th>\n",
       "    </tr>\n",
       "  </thead>\n",
       "  <tbody>\n",
       "    <tr>\n",
       "      <th>0</th>\n",
       "      <td>LogisticRegression</td>\n",
       "    </tr>\n",
       "    <tr>\n",
       "      <th>1</th>\n",
       "      <td>KNNClaccification</td>\n",
       "    </tr>\n",
       "    <tr>\n",
       "      <th>2</th>\n",
       "      <td>AdaBoostClassifier</td>\n",
       "    </tr>\n",
       "    <tr>\n",
       "      <th>3</th>\n",
       "      <td>DecisionTreeClassifier</td>\n",
       "    </tr>\n",
       "    <tr>\n",
       "      <th>4</th>\n",
       "      <td>XGBClassifier</td>\n",
       "    </tr>\n",
       "  </tbody>\n",
       "</table>\n",
       "</div>"
      ],
      "text/plain": [
       "                Algorithm\n",
       "0      LogisticRegression\n",
       "1       KNNClaccification\n",
       "2      AdaBoostClassifier\n",
       "3  DecisionTreeClassifier\n",
       "4           XGBClassifier"
      ]
     },
     "execution_count": 42,
     "metadata": {},
     "output_type": "execute_result"
    }
   ],
   "source": [
    "final_df"
   ]
  },
  {
   "cell_type": "markdown",
   "id": "edc239cb",
   "metadata": {},
   "source": [
    "# Accuracy without sampling"
   ]
  },
  {
   "cell_type": "code",
   "execution_count": 43,
   "id": "34147e55",
   "metadata": {},
   "outputs": [
    {
     "data": {
      "text/plain": [
       "[0.7804693414080243,\n",
       " 0.7577592732778198,\n",
       " 0.7857683573050719,\n",
       " 0.7267221801665406,\n",
       " 0.7267221801665406]"
      ]
     },
     "execution_count": 43,
     "metadata": {},
     "output_type": "execute_result"
    }
   ],
   "source": [
    "wosamp_acc"
   ]
  },
  {
   "cell_type": "code",
   "execution_count": 44,
   "id": "6bc5b020",
   "metadata": {},
   "outputs": [
    {
     "data": {
      "text/html": [
       "<div>\n",
       "<style scoped>\n",
       "    .dataframe tbody tr th:only-of-type {\n",
       "        vertical-align: middle;\n",
       "    }\n",
       "\n",
       "    .dataframe tbody tr th {\n",
       "        vertical-align: top;\n",
       "    }\n",
       "\n",
       "    .dataframe thead th {\n",
       "        text-align: right;\n",
       "    }\n",
       "</style>\n",
       "<table border=\"1\" class=\"dataframe\">\n",
       "  <thead>\n",
       "    <tr style=\"text-align: right;\">\n",
       "      <th></th>\n",
       "      <th>Algorithm</th>\n",
       "      <th>Without sampling</th>\n",
       "    </tr>\n",
       "  </thead>\n",
       "  <tbody>\n",
       "    <tr>\n",
       "      <th>0</th>\n",
       "      <td>LogisticRegression</td>\n",
       "      <td>0.780469</td>\n",
       "    </tr>\n",
       "    <tr>\n",
       "      <th>1</th>\n",
       "      <td>KNNClaccification</td>\n",
       "      <td>0.757759</td>\n",
       "    </tr>\n",
       "    <tr>\n",
       "      <th>2</th>\n",
       "      <td>AdaBoostClassifier</td>\n",
       "      <td>0.785768</td>\n",
       "    </tr>\n",
       "    <tr>\n",
       "      <th>3</th>\n",
       "      <td>DecisionTreeClassifier</td>\n",
       "      <td>0.726722</td>\n",
       "    </tr>\n",
       "    <tr>\n",
       "      <th>4</th>\n",
       "      <td>XGBClassifier</td>\n",
       "      <td>0.726722</td>\n",
       "    </tr>\n",
       "  </tbody>\n",
       "</table>\n",
       "</div>"
      ],
      "text/plain": [
       "                Algorithm  Without sampling\n",
       "0      LogisticRegression          0.780469\n",
       "1       KNNClaccification          0.757759\n",
       "2      AdaBoostClassifier          0.785768\n",
       "3  DecisionTreeClassifier          0.726722\n",
       "4           XGBClassifier          0.726722"
      ]
     },
     "execution_count": 44,
     "metadata": {},
     "output_type": "execute_result"
    }
   ],
   "source": [
    "final_df['Without sampling']=wosamp_acc\n",
    "final_df"
   ]
  },
  {
   "cell_type": "code",
   "execution_count": 45,
   "id": "15436adc",
   "metadata": {},
   "outputs": [
    {
     "data": {
      "text/html": [
       "<div>\n",
       "<style scoped>\n",
       "    .dataframe tbody tr th:only-of-type {\n",
       "        vertical-align: middle;\n",
       "    }\n",
       "\n",
       "    .dataframe tbody tr th {\n",
       "        vertical-align: top;\n",
       "    }\n",
       "\n",
       "    .dataframe thead th {\n",
       "        text-align: right;\n",
       "    }\n",
       "</style>\n",
       "<table border=\"1\" class=\"dataframe\">\n",
       "  <thead>\n",
       "    <tr style=\"text-align: right;\">\n",
       "      <th></th>\n",
       "      <th>Algorithm</th>\n",
       "      <th>Accuracy</th>\n",
       "    </tr>\n",
       "  </thead>\n",
       "  <tbody>\n",
       "    <tr>\n",
       "      <th>0</th>\n",
       "      <td>LogisticRegression</td>\n",
       "      <td>0.780469</td>\n",
       "    </tr>\n",
       "    <tr>\n",
       "      <th>1</th>\n",
       "      <td>KNNClaccification</td>\n",
       "      <td>0.757759</td>\n",
       "    </tr>\n",
       "    <tr>\n",
       "      <th>2</th>\n",
       "      <td>AdaBoostClassifier</td>\n",
       "      <td>0.785768</td>\n",
       "    </tr>\n",
       "    <tr>\n",
       "      <th>3</th>\n",
       "      <td>DecisionTreeClassifier</td>\n",
       "      <td>0.726722</td>\n",
       "    </tr>\n",
       "    <tr>\n",
       "      <th>4</th>\n",
       "      <td>XGBClassifier</td>\n",
       "      <td>0.726722</td>\n",
       "    </tr>\n",
       "  </tbody>\n",
       "</table>\n",
       "</div>"
      ],
      "text/plain": [
       "                Algorithm  Accuracy\n",
       "0      LogisticRegression  0.780469\n",
       "1       KNNClaccification  0.757759\n",
       "2      AdaBoostClassifier  0.785768\n",
       "3  DecisionTreeClassifier  0.726722\n",
       "4           XGBClassifier  0.726722"
      ]
     },
     "execution_count": 45,
     "metadata": {},
     "output_type": "execute_result"
    }
   ],
   "source": [
    "acc_df1=dataframe(wosamp_acc)\n",
    "acc_df1"
   ]
  },
  {
   "cell_type": "code",
   "execution_count": 46,
   "id": "499d365e",
   "metadata": {},
   "outputs": [
    {
     "data": {
      "image/png": "[encoded data removed]",
      "text/plain": [
       "<Figure size 1152x576 with 1 Axes>"
      ]
     },
     "metadata": {
      "needs_background": "light"
     },
     "output_type": "display_data"
    }
   ],
   "source": [
    "plt.figure(figsize=(16,8))\n",
    "sns.set()\n",
    "plt.title('Accuracy Comparison before sampling')\n",
    "sns.barplot(y=\"Algorithm\",x='Accuracy',data=acc_df1,palette='Set2')\n",
    "sns.set(rc={'figure.figsize':(15,5)})"
   ]
  },
  {
   "cell_type": "markdown",
   "id": "6f9a9895",
   "metadata": {},
   "source": [
    "# Imbalanced data handeling"
   ]
  },
  {
   "cell_type": "code",
   "execution_count": 47,
   "id": "6b59d5de",
   "metadata": {},
   "outputs": [
    {
     "data": {
      "text/plain": [
       "0    3892\n",
       "1    1390\n",
       "Name: Churn, dtype: int64"
      ]
     },
     "execution_count": 47,
     "metadata": {},
     "output_type": "execute_result"
    }
   ],
   "source": [
    "df.Churn.value_counts()"
   ]
  },
  {
   "cell_type": "code",
   "execution_count": 48,
   "id": "02a4dbdd",
   "metadata": {},
   "outputs": [],
   "source": [
    "not_churn=(3892/(3892+1390)) * 100\n",
    "churn = (1390 / (3892+1390)) * 100"
   ]
  },
  {
   "cell_type": "code",
   "execution_count": 49,
   "id": "89e7409a",
   "metadata": {},
   "outputs": [
    {
     "name": "stdout",
     "output_type": "stream",
     "text": [
      "Not Churn: 73.68421052631578 %\n",
      "Churn: 26.31578947368421 %\n"
     ]
    }
   ],
   "source": [
    "print(\"Not Churn:\",not_churn,'%')\n",
    "print(\"Churn:\",churn,'%')"
   ]
  },
  {
   "cell_type": "code",
   "execution_count": 50,
   "id": "68e1cad5",
   "metadata": {},
   "outputs": [],
   "source": [
    "data={'Type':['Not Churn','Churn'],\n",
    "      'value':[73.68421052631578,26.31578947368421]\n",
    "    \n",
    "}"
   ]
  },
  {
   "cell_type": "code",
   "execution_count": 51,
   "id": "dbceee9f",
   "metadata": {},
   "outputs": [
    {
     "data": {
      "text/html": [
       "<div>\n",
       "<style scoped>\n",
       "    .dataframe tbody tr th:only-of-type {\n",
       "        vertical-align: middle;\n",
       "    }\n",
       "\n",
       "    .dataframe tbody tr th {\n",
       "        vertical-align: top;\n",
       "    }\n",
       "\n",
       "    .dataframe thead th {\n",
       "        text-align: right;\n",
       "    }\n",
       "</style>\n",
       "<table border=\"1\" class=\"dataframe\">\n",
       "  <thead>\n",
       "    <tr style=\"text-align: right;\">\n",
       "      <th></th>\n",
       "      <th>Type</th>\n",
       "      <th>value</th>\n",
       "    </tr>\n",
       "  </thead>\n",
       "  <tbody>\n",
       "    <tr>\n",
       "      <th>0</th>\n",
       "      <td>Not Churn</td>\n",
       "      <td>73.684211</td>\n",
       "    </tr>\n",
       "    <tr>\n",
       "      <th>1</th>\n",
       "      <td>Churn</td>\n",
       "      <td>26.315789</td>\n",
       "    </tr>\n",
       "  </tbody>\n",
       "</table>\n",
       "</div>"
      ],
      "text/plain": [
       "        Type      value\n",
       "0  Not Churn  73.684211\n",
       "1      Churn  26.315789"
      ]
     },
     "execution_count": 51,
     "metadata": {},
     "output_type": "execute_result"
    }
   ],
   "source": [
    "imbalance=pd.DataFrame(data)\n",
    "imbalance"
   ]
  },
  {
   "cell_type": "code",
   "execution_count": 52,
   "id": "4f3b4cc0",
   "metadata": {},
   "outputs": [
    {
     "data": {
      "image/png": "[encoded data removed]",
      "text/plain": [
       "<Figure size 864x216 with 1 Axes>"
      ]
     },
     "metadata": {},
     "output_type": "display_data"
    }
   ],
   "source": [
    "plt.figure(figsize=(12,3))\n",
    "sns.set()\n",
    "plt.title('Comparison of Churns')\n",
    "sns.barplot(y=\"Type\",x='value',data=imbalance,palette='Set2')\n",
    "sns.set(rc={'figure.figsize':(15,5)})"
   ]
  },
  {
   "cell_type": "markdown",
   "id": "f95415c0",
   "metadata": {},
   "source": [
    "# Task:2"
   ]
  },
  {
   "cell_type": "code",
   "execution_count": 53,
   "id": "c369f614",
   "metadata": {},
   "outputs": [],
   "source": [
    "#task:2 Do Synthetic Minority Oversampling Technique(SMOTETomek) on given dataset and Create ML model and evaluate model by cross validation again\n"
   ]
  },
  {
   "cell_type": "markdown",
   "id": "683c7dd0",
   "metadata": {},
   "source": [
    "# Synthetic Minority Oversampling Technique(SMOTETomek)"
   ]
  },
  {
   "cell_type": "code",
   "execution_count": 54,
   "id": "e7a8729b",
   "metadata": {},
   "outputs": [],
   "source": [
    "from imblearn.combine import SMOTETomek"
   ]
  },
  {
   "cell_type": "code",
   "execution_count": 55,
   "id": "97b79f44",
   "metadata": {},
   "outputs": [],
   "source": [
    "sm=SMOTETomek(random_state=42)"
   ]
  },
  {
   "cell_type": "code",
   "execution_count": 56,
   "id": "05b95616",
   "metadata": {},
   "outputs": [
    {
     "data": {
      "text/plain": [
       "0    3892\n",
       "1    1390\n",
       "Name: Churn, dtype: int64"
      ]
     },
     "execution_count": 56,
     "metadata": {},
     "output_type": "execute_result"
    }
   ],
   "source": [
    "y.value_counts() "
   ]
  },
  {
   "cell_type": "code",
   "execution_count": 57,
   "id": "e4fdbe64",
   "metadata": {},
   "outputs": [],
   "source": [
    "xsm,ysm=sm.fit_resample(x,y)"
   ]
  },
  {
   "cell_type": "code",
   "execution_count": 58,
   "id": "9c566609",
   "metadata": {},
   "outputs": [
    {
     "data": {
      "text/plain": [
       "1    3589\n",
       "0    3589\n",
       "Name: Churn, dtype: int64"
      ]
     },
     "execution_count": 58,
     "metadata": {},
     "output_type": "execute_result"
    }
   ],
   "source": [
    "ysm.value_counts()"
   ]
  },
  {
   "cell_type": "code",
   "execution_count": 59,
   "id": "c70a5e2e",
   "metadata": {},
   "outputs": [],
   "source": [
    "xtrain1,xtest1,ytrain1,ytest1=train_test_split(xsm,ysm,train_size=0.75,random_state=42)"
   ]
  },
  {
   "cell_type": "code",
   "execution_count": 60,
   "id": "9e9d4382",
   "metadata": {},
   "outputs": [
    {
     "data": {
      "text/plain": [
       "[0.8272980501392758,\n",
       " 0.7052924791086351,\n",
       " 0.8451253481894151,\n",
       " 0.8144846796657381,\n",
       " 0.8144846796657381]"
      ]
     },
     "execution_count": 60,
     "metadata": {},
     "output_type": "execute_result"
    }
   ],
   "source": [
    "model_name,smot_accu=model(xtrain1,ytrain1,xtest1,ytest1)\n",
    "smot_accu"
   ]
  },
  {
   "cell_type": "code",
   "execution_count": 61,
   "id": "8675d720",
   "metadata": {},
   "outputs": [
    {
     "data": {
      "text/html": [
       "<div>\n",
       "<style scoped>\n",
       "    .dataframe tbody tr th:only-of-type {\n",
       "        vertical-align: middle;\n",
       "    }\n",
       "\n",
       "    .dataframe tbody tr th {\n",
       "        vertical-align: top;\n",
       "    }\n",
       "\n",
       "    .dataframe thead th {\n",
       "        text-align: right;\n",
       "    }\n",
       "</style>\n",
       "<table border=\"1\" class=\"dataframe\">\n",
       "  <thead>\n",
       "    <tr style=\"text-align: right;\">\n",
       "      <th></th>\n",
       "      <th>Algorithm</th>\n",
       "      <th>Without sampling</th>\n",
       "      <th>SMOTETomek</th>\n",
       "    </tr>\n",
       "  </thead>\n",
       "  <tbody>\n",
       "    <tr>\n",
       "      <th>0</th>\n",
       "      <td>LogisticRegression</td>\n",
       "      <td>0.780469</td>\n",
       "      <td>0.827298</td>\n",
       "    </tr>\n",
       "    <tr>\n",
       "      <th>1</th>\n",
       "      <td>KNNClaccification</td>\n",
       "      <td>0.757759</td>\n",
       "      <td>0.705292</td>\n",
       "    </tr>\n",
       "    <tr>\n",
       "      <th>2</th>\n",
       "      <td>AdaBoostClassifier</td>\n",
       "      <td>0.785768</td>\n",
       "      <td>0.845125</td>\n",
       "    </tr>\n",
       "    <tr>\n",
       "      <th>3</th>\n",
       "      <td>DecisionTreeClassifier</td>\n",
       "      <td>0.726722</td>\n",
       "      <td>0.814485</td>\n",
       "    </tr>\n",
       "    <tr>\n",
       "      <th>4</th>\n",
       "      <td>XGBClassifier</td>\n",
       "      <td>0.726722</td>\n",
       "      <td>0.814485</td>\n",
       "    </tr>\n",
       "  </tbody>\n",
       "</table>\n",
       "</div>"
      ],
      "text/plain": [
       "                Algorithm  Without sampling  SMOTETomek\n",
       "0      LogisticRegression          0.780469    0.827298\n",
       "1       KNNClaccification          0.757759    0.705292\n",
       "2      AdaBoostClassifier          0.785768    0.845125\n",
       "3  DecisionTreeClassifier          0.726722    0.814485\n",
       "4           XGBClassifier          0.726722    0.814485"
      ]
     },
     "execution_count": 61,
     "metadata": {},
     "output_type": "execute_result"
    }
   ],
   "source": [
    "final_df['SMOTETomek']=smot_accu\n",
    "final_df"
   ]
  },
  {
   "cell_type": "code",
   "execution_count": 62,
   "id": "7b224e53",
   "metadata": {},
   "outputs": [
    {
     "data": {
      "text/html": [
       "<div>\n",
       "<style scoped>\n",
       "    .dataframe tbody tr th:only-of-type {\n",
       "        vertical-align: middle;\n",
       "    }\n",
       "\n",
       "    .dataframe tbody tr th {\n",
       "        vertical-align: top;\n",
       "    }\n",
       "\n",
       "    .dataframe thead th {\n",
       "        text-align: right;\n",
       "    }\n",
       "</style>\n",
       "<table border=\"1\" class=\"dataframe\">\n",
       "  <thead>\n",
       "    <tr style=\"text-align: right;\">\n",
       "      <th></th>\n",
       "      <th>Algorithm</th>\n",
       "      <th>Accuracy</th>\n",
       "    </tr>\n",
       "  </thead>\n",
       "  <tbody>\n",
       "    <tr>\n",
       "      <th>0</th>\n",
       "      <td>LogisticRegression</td>\n",
       "      <td>0.827298</td>\n",
       "    </tr>\n",
       "    <tr>\n",
       "      <th>1</th>\n",
       "      <td>KNNClaccification</td>\n",
       "      <td>0.705292</td>\n",
       "    </tr>\n",
       "    <tr>\n",
       "      <th>2</th>\n",
       "      <td>AdaBoostClassifier</td>\n",
       "      <td>0.845125</td>\n",
       "    </tr>\n",
       "    <tr>\n",
       "      <th>3</th>\n",
       "      <td>DecisionTreeClassifier</td>\n",
       "      <td>0.814485</td>\n",
       "    </tr>\n",
       "    <tr>\n",
       "      <th>4</th>\n",
       "      <td>XGBClassifier</td>\n",
       "      <td>0.814485</td>\n",
       "    </tr>\n",
       "  </tbody>\n",
       "</table>\n",
       "</div>"
      ],
      "text/plain": [
       "                Algorithm  Accuracy\n",
       "0      LogisticRegression  0.827298\n",
       "1       KNNClaccification  0.705292\n",
       "2      AdaBoostClassifier  0.845125\n",
       "3  DecisionTreeClassifier  0.814485\n",
       "4           XGBClassifier  0.814485"
      ]
     },
     "execution_count": 62,
     "metadata": {},
     "output_type": "execute_result"
    }
   ],
   "source": [
    "somt=dataframe(smot_accu)\n",
    "somt"
   ]
  },
  {
   "cell_type": "code",
   "execution_count": 63,
   "id": "a03b20df",
   "metadata": {},
   "outputs": [
    {
     "data": {
      "image/png": "[encoded data removed]",
      "text/plain": [
       "<Figure size 1080x360 with 1 Axes>"
      ]
     },
     "metadata": {},
     "output_type": "display_data"
    }
   ],
   "source": [
    "sns.set()\n",
    "plt.title('Accuracy Comparison after SMOTETomek sampling')\n",
    "sns.barplot(y=\"Algorithm\",x='Accuracy',data=acc_df1,palette='Set2')\n",
    "sns.set(rc={'figure.figsize':(15,5)})"
   ]
  },
  {
   "cell_type": "markdown",
   "id": "742bb86b",
   "metadata": {},
   "source": [
    "# K fold cross Validation"
   ]
  },
  {
   "cell_type": "code",
   "execution_count": 64,
   "id": "318978ac",
   "metadata": {},
   "outputs": [],
   "source": [
    "from sklearn.model_selection import KFold, cross_val_score, cross_validate"
   ]
  },
  {
   "cell_type": "code",
   "execution_count": 65,
   "id": "8d84e810",
   "metadata": {},
   "outputs": [],
   "source": [
    "kfold = KFold(n_splits=4) #each fold contain 25% data"
   ]
  },
  {
   "cell_type": "code",
   "execution_count": 66,
   "id": "4907dc9f",
   "metadata": {},
   "outputs": [],
   "source": [
    "def crossval(x,y,z):#mean of k fold validation score\n",
    "    model_name=['LogisticRegression','KNNClaccification','AdaBoostClassifier','DecisionTreeClassifier','XGBClassifier']\n",
    "    accuracy=[]\n",
    "    accuracy.append(cross_val_score(log, x, y, cv=z).mean())#z=kfold\n",
    "    accuracy.append(cross_val_score(neigh, x, y, cv=z).mean())\n",
    "    accuracy.append(cross_val_score(ada, x, y, cv=z).mean())\n",
    "    accuracy.append(cross_val_score(clf, x, y, cv=z).mean())\n",
    "    accuracy.append(cross_val_score(xgb, x, y, cv=z).mean())\n",
    "\n",
    "    return model_name,accuracy"
   ]
  },
  {
   "cell_type": "code",
   "execution_count": 67,
   "id": "ae418f32",
   "metadata": {},
   "outputs": [],
   "source": [
    "model_name,smot_acc_kf=crossval(xsm,ysm,kfold)"
   ]
  },
  {
   "cell_type": "code",
   "execution_count": 68,
   "id": "7cfca55f",
   "metadata": {},
   "outputs": [
    {
     "data": {
      "text/html": [
       "<div>\n",
       "<style scoped>\n",
       "    .dataframe tbody tr th:only-of-type {\n",
       "        vertical-align: middle;\n",
       "    }\n",
       "\n",
       "    .dataframe tbody tr th {\n",
       "        vertical-align: top;\n",
       "    }\n",
       "\n",
       "    .dataframe thead th {\n",
       "        text-align: right;\n",
       "    }\n",
       "</style>\n",
       "<table border=\"1\" class=\"dataframe\">\n",
       "  <thead>\n",
       "    <tr style=\"text-align: right;\">\n",
       "      <th></th>\n",
       "      <th>Algorithm</th>\n",
       "      <th>Without sampling</th>\n",
       "      <th>SMOTETomek</th>\n",
       "      <th>SMOTETomek_K_Fold</th>\n",
       "    </tr>\n",
       "  </thead>\n",
       "  <tbody>\n",
       "    <tr>\n",
       "      <th>0</th>\n",
       "      <td>LogisticRegression</td>\n",
       "      <td>0.780469</td>\n",
       "      <td>0.827298</td>\n",
       "      <td>0.777661</td>\n",
       "    </tr>\n",
       "    <tr>\n",
       "      <th>1</th>\n",
       "      <td>KNNClaccification</td>\n",
       "      <td>0.757759</td>\n",
       "      <td>0.705292</td>\n",
       "      <td>0.564496</td>\n",
       "    </tr>\n",
       "    <tr>\n",
       "      <th>2</th>\n",
       "      <td>AdaBoostClassifier</td>\n",
       "      <td>0.785768</td>\n",
       "      <td>0.845125</td>\n",
       "      <td>0.797165</td>\n",
       "    </tr>\n",
       "    <tr>\n",
       "      <th>3</th>\n",
       "      <td>DecisionTreeClassifier</td>\n",
       "      <td>0.726722</td>\n",
       "      <td>0.814485</td>\n",
       "      <td>0.788673</td>\n",
       "    </tr>\n",
       "    <tr>\n",
       "      <th>4</th>\n",
       "      <td>XGBClassifier</td>\n",
       "      <td>0.726722</td>\n",
       "      <td>0.814485</td>\n",
       "      <td>0.843562</td>\n",
       "    </tr>\n",
       "  </tbody>\n",
       "</table>\n",
       "</div>"
      ],
      "text/plain": [
       "                Algorithm  Without sampling  SMOTETomek  SMOTETomek_K_Fold\n",
       "0      LogisticRegression          0.780469    0.827298           0.777661\n",
       "1       KNNClaccification          0.757759    0.705292           0.564496\n",
       "2      AdaBoostClassifier          0.785768    0.845125           0.797165\n",
       "3  DecisionTreeClassifier          0.726722    0.814485           0.788673\n",
       "4           XGBClassifier          0.726722    0.814485           0.843562"
      ]
     },
     "execution_count": 68,
     "metadata": {},
     "output_type": "execute_result"
    }
   ],
   "source": [
    "final_df['SMOTETomek_K_Fold']=smot_acc_kf\n",
    "final_df"
   ]
  },
  {
   "cell_type": "code",
   "execution_count": 69,
   "id": "d0e9ff6a",
   "metadata": {},
   "outputs": [
    {
     "data": {
      "text/html": [
       "<div>\n",
       "<style scoped>\n",
       "    .dataframe tbody tr th:only-of-type {\n",
       "        vertical-align: middle;\n",
       "    }\n",
       "\n",
       "    .dataframe tbody tr th {\n",
       "        vertical-align: top;\n",
       "    }\n",
       "\n",
       "    .dataframe thead th {\n",
       "        text-align: right;\n",
       "    }\n",
       "</style>\n",
       "<table border=\"1\" class=\"dataframe\">\n",
       "  <thead>\n",
       "    <tr style=\"text-align: right;\">\n",
       "      <th></th>\n",
       "      <th>Algorithm</th>\n",
       "      <th>Accuracy</th>\n",
       "    </tr>\n",
       "  </thead>\n",
       "  <tbody>\n",
       "    <tr>\n",
       "      <th>0</th>\n",
       "      <td>LogisticRegression</td>\n",
       "      <td>0.777661</td>\n",
       "    </tr>\n",
       "    <tr>\n",
       "      <th>1</th>\n",
       "      <td>KNNClaccification</td>\n",
       "      <td>0.564496</td>\n",
       "    </tr>\n",
       "    <tr>\n",
       "      <th>2</th>\n",
       "      <td>AdaBoostClassifier</td>\n",
       "      <td>0.797165</td>\n",
       "    </tr>\n",
       "    <tr>\n",
       "      <th>3</th>\n",
       "      <td>DecisionTreeClassifier</td>\n",
       "      <td>0.788673</td>\n",
       "    </tr>\n",
       "    <tr>\n",
       "      <th>4</th>\n",
       "      <td>XGBClassifier</td>\n",
       "      <td>0.843562</td>\n",
       "    </tr>\n",
       "  </tbody>\n",
       "</table>\n",
       "</div>"
      ],
      "text/plain": [
       "                Algorithm  Accuracy\n",
       "0      LogisticRegression  0.777661\n",
       "1       KNNClaccification  0.564496\n",
       "2      AdaBoostClassifier  0.797165\n",
       "3  DecisionTreeClassifier  0.788673\n",
       "4           XGBClassifier  0.843562"
      ]
     },
     "execution_count": 69,
     "metadata": {},
     "output_type": "execute_result"
    }
   ],
   "source": [
    "smot_kfold=dataframe(smot_acc_kf)\n",
    "smot_kfold"
   ]
  },
  {
   "cell_type": "code",
   "execution_count": 70,
   "id": "d3b5e278",
   "metadata": {},
   "outputs": [
    {
     "data": {
      "image/png": "[encoded data removed]",
      "text/plain": [
       "<Figure size 1080x360 with 1 Axes>"
      ]
     },
     "metadata": {},
     "output_type": "display_data"
    }
   ],
   "source": [
    "sns.set()\n",
    "plt.title('Accuracy Comparison after Synthetic Minority Oversampling Technique and K fold validation ')\n",
    "sns.barplot(y=\"Algorithm\",x='Accuracy',data=smot_kfold,palette='Set2')\n",
    "sns.set(rc={'figure.figsize':(15,5)})"
   ]
  },
  {
   "cell_type": "markdown",
   "id": "e1b2fa66",
   "metadata": {},
   "source": [
    "# Stratified k fold cross Validation"
   ]
  },
  {
   "cell_type": "code",
   "execution_count": 71,
   "id": "eb40773d",
   "metadata": {},
   "outputs": [],
   "source": [
    "from sklearn.model_selection import StratifiedKFold"
   ]
  },
  {
   "cell_type": "code",
   "execution_count": 72,
   "id": "ba4f947b",
   "metadata": {},
   "outputs": [],
   "source": [
    "st = StratifiedKFold(n_splits=4)"
   ]
  },
  {
   "cell_type": "code",
   "execution_count": 73,
   "id": "4a4eb052",
   "metadata": {},
   "outputs": [],
   "source": [
    "model_name,smot_acc_st=crossval(xsm,ysm,st)"
   ]
  },
  {
   "cell_type": "code",
   "execution_count": 74,
   "id": "f257d796",
   "metadata": {},
   "outputs": [
    {
     "data": {
      "text/html": [
       "<div>\n",
       "<style scoped>\n",
       "    .dataframe tbody tr th:only-of-type {\n",
       "        vertical-align: middle;\n",
       "    }\n",
       "\n",
       "    .dataframe tbody tr th {\n",
       "        vertical-align: top;\n",
       "    }\n",
       "\n",
       "    .dataframe thead th {\n",
       "        text-align: right;\n",
       "    }\n",
       "</style>\n",
       "<table border=\"1\" class=\"dataframe\">\n",
       "  <thead>\n",
       "    <tr style=\"text-align: right;\">\n",
       "      <th></th>\n",
       "      <th>Algorithm</th>\n",
       "      <th>Without sampling</th>\n",
       "      <th>SMOTETomek</th>\n",
       "      <th>SMOTETomek_K_Fold</th>\n",
       "      <th>SMOTETomek_Stratified_K_Fold</th>\n",
       "    </tr>\n",
       "  </thead>\n",
       "  <tbody>\n",
       "    <tr>\n",
       "      <th>0</th>\n",
       "      <td>LogisticRegression</td>\n",
       "      <td>0.780469</td>\n",
       "      <td>0.827298</td>\n",
       "      <td>0.777661</td>\n",
       "      <td>0.809564</td>\n",
       "    </tr>\n",
       "    <tr>\n",
       "      <th>1</th>\n",
       "      <td>KNNClaccification</td>\n",
       "      <td>0.757759</td>\n",
       "      <td>0.705292</td>\n",
       "      <td>0.564496</td>\n",
       "      <td>0.707441</td>\n",
       "    </tr>\n",
       "    <tr>\n",
       "      <th>2</th>\n",
       "      <td>AdaBoostClassifier</td>\n",
       "      <td>0.785768</td>\n",
       "      <td>0.845125</td>\n",
       "      <td>0.797165</td>\n",
       "      <td>0.822942</td>\n",
       "    </tr>\n",
       "    <tr>\n",
       "      <th>3</th>\n",
       "      <td>DecisionTreeClassifier</td>\n",
       "      <td>0.726722</td>\n",
       "      <td>0.814485</td>\n",
       "      <td>0.788673</td>\n",
       "      <td>0.798844</td>\n",
       "    </tr>\n",
       "    <tr>\n",
       "      <th>4</th>\n",
       "      <td>XGBClassifier</td>\n",
       "      <td>0.726722</td>\n",
       "      <td>0.814485</td>\n",
       "      <td>0.843562</td>\n",
       "      <td>0.845936</td>\n",
       "    </tr>\n",
       "  </tbody>\n",
       "</table>\n",
       "</div>"
      ],
      "text/plain": [
       "                Algorithm  Without sampling  SMOTETomek  SMOTETomek_K_Fold  \\\n",
       "0      LogisticRegression          0.780469    0.827298           0.777661   \n",
       "1       KNNClaccification          0.757759    0.705292           0.564496   \n",
       "2      AdaBoostClassifier          0.785768    0.845125           0.797165   \n",
       "3  DecisionTreeClassifier          0.726722    0.814485           0.788673   \n",
       "4           XGBClassifier          0.726722    0.814485           0.843562   \n",
       "\n",
       "   SMOTETomek_Stratified_K_Fold  \n",
       "0                      0.809564  \n",
       "1                      0.707441  \n",
       "2                      0.822942  \n",
       "3                      0.798844  \n",
       "4                      0.845936  "
      ]
     },
     "execution_count": 74,
     "metadata": {},
     "output_type": "execute_result"
    }
   ],
   "source": [
    "final_df['SMOTETomek_Stratified_K_Fold']=smot_acc_st\n",
    "final_df"
   ]
  },
  {
   "cell_type": "code",
   "execution_count": 75,
   "id": "7c66828e",
   "metadata": {},
   "outputs": [
    {
     "data": {
      "text/html": [
       "<div>\n",
       "<style scoped>\n",
       "    .dataframe tbody tr th:only-of-type {\n",
       "        vertical-align: middle;\n",
       "    }\n",
       "\n",
       "    .dataframe tbody tr th {\n",
       "        vertical-align: top;\n",
       "    }\n",
       "\n",
       "    .dataframe thead th {\n",
       "        text-align: right;\n",
       "    }\n",
       "</style>\n",
       "<table border=\"1\" class=\"dataframe\">\n",
       "  <thead>\n",
       "    <tr style=\"text-align: right;\">\n",
       "      <th></th>\n",
       "      <th>Algorithm</th>\n",
       "      <th>Accuracy</th>\n",
       "    </tr>\n",
       "  </thead>\n",
       "  <tbody>\n",
       "    <tr>\n",
       "      <th>0</th>\n",
       "      <td>LogisticRegression</td>\n",
       "      <td>0.777661</td>\n",
       "    </tr>\n",
       "    <tr>\n",
       "      <th>1</th>\n",
       "      <td>KNNClaccification</td>\n",
       "      <td>0.564496</td>\n",
       "    </tr>\n",
       "    <tr>\n",
       "      <th>2</th>\n",
       "      <td>AdaBoostClassifier</td>\n",
       "      <td>0.797165</td>\n",
       "    </tr>\n",
       "    <tr>\n",
       "      <th>3</th>\n",
       "      <td>DecisionTreeClassifier</td>\n",
       "      <td>0.788673</td>\n",
       "    </tr>\n",
       "    <tr>\n",
       "      <th>4</th>\n",
       "      <td>XGBClassifier</td>\n",
       "      <td>0.843562</td>\n",
       "    </tr>\n",
       "  </tbody>\n",
       "</table>\n",
       "</div>"
      ],
      "text/plain": [
       "                Algorithm  Accuracy\n",
       "0      LogisticRegression  0.777661\n",
       "1       KNNClaccification  0.564496\n",
       "2      AdaBoostClassifier  0.797165\n",
       "3  DecisionTreeClassifier  0.788673\n",
       "4           XGBClassifier  0.843562"
      ]
     },
     "execution_count": 75,
     "metadata": {},
     "output_type": "execute_result"
    }
   ],
   "source": [
    "smot_st=dataframe(smot_acc_kf)\n",
    "smot_st"
   ]
  },
  {
   "cell_type": "code",
   "execution_count": 76,
   "id": "9b27fadd",
   "metadata": {},
   "outputs": [
    {
     "data": {
      "image/png": "[encoded data removed]",
      "text/plain": [
       "<Figure size 1080x360 with 1 Axes>"
      ]
     },
     "metadata": {},
     "output_type": "display_data"
    }
   ],
   "source": [
    "sns.set()\n",
    "plt.title('Accuracy Comparsion after Systhetic Minority Oversampling Technique and stratified K fold validation ')\n",
    "sns.barplot(y=\"Algorithm\",x='Accuracy',data=smot_kfold,palette='Set2')\n",
    "sns.set(rc={'figure.figsize':(15,5)})"
   ]
  },
  {
   "cell_type": "markdown",
   "id": "7bf4aed3",
   "metadata": {},
   "source": [
    "# Leave One Out Cross Validation"
   ]
  },
  {
   "cell_type": "code",
   "execution_count": 77,
   "id": "0ffbb959",
   "metadata": {},
   "outputs": [],
   "source": [
    "from sklearn.model_selection import LeaveOneOut"
   ]
  },
  {
   "cell_type": "code",
   "execution_count": 78,
   "id": "827a9985",
   "metadata": {},
   "outputs": [],
   "source": [
    "le = LeaveOneOut()"
   ]
  },
  {
   "cell_type": "code",
   "execution_count": null,
   "id": "034dce9a",
   "metadata": {},
   "outputs": [],
   "source": []
  },
  {
   "cell_type": "code",
   "execution_count": null,
   "id": "92e773d1",
   "metadata": {},
   "outputs": [],
   "source": []
  },
  {
   "cell_type": "markdown",
   "id": "1cb22574",
   "metadata": {},
   "source": [
    "# Task: 3"
   ]
  },
  {
   "cell_type": "code",
   "execution_count": 79,
   "id": "87be286e",
   "metadata": {},
   "outputs": [],
   "source": [
    "#task:3 Do Undersampling on given dataset and Create ML model and evaluate model by cross validation again"
   ]
  },
  {
   "cell_type": "markdown",
   "id": "136f66fc",
   "metadata": {},
   "source": [
    "# ML Models"
   ]
  },
  {
   "cell_type": "markdown",
   "id": "0effa712",
   "metadata": {},
   "source": [
    "1.Decision Tree\n",
    "2.XGBoost\n",
    "3.AdaBosst\n",
    "4.KNN Classifier\n",
    "5.LogisticRegression"
   ]
  },
  {
   "cell_type": "markdown",
   "id": "512896de",
   "metadata": {},
   "source": [
    "# Near Miss for Under_Sampling"
   ]
  },
  {
   "cell_type": "code",
   "execution_count": 80,
   "id": "a710525f",
   "metadata": {},
   "outputs": [],
   "source": [
    "from imblearn.under_sampling import NearMiss"
   ]
  },
  {
   "cell_type": "code",
   "execution_count": 81,
   "id": "be29e4a4",
   "metadata": {},
   "outputs": [],
   "source": [
    "NearMiss_obj = NearMiss()\n",
    "new_x, new_y = NearMiss_obj.fit_resample(x,y)"
   ]
  },
  {
   "cell_type": "code",
   "execution_count": 82,
   "id": "3f181827",
   "metadata": {},
   "outputs": [],
   "source": [
    "xtrain2,xtest2,ytrain2,ytest2 = train_test_split(new_x, new_y,train_size=0.75,random_state=42)"
   ]
  },
  {
   "cell_type": "code",
   "execution_count": 83,
   "id": "5877f5cc",
   "metadata": {},
   "outputs": [],
   "source": [
    "model_name,under_accu=model(xtrain2,ytrain2,xtest2,ytest2)"
   ]
  },
  {
   "cell_type": "code",
   "execution_count": 84,
   "id": "a607120b",
   "metadata": {},
   "outputs": [
    {
     "data": {
      "text/plain": [
       "[0.6647482014388489,\n",
       " 0.5640287769784172,\n",
       " 0.6575539568345323,\n",
       " 0.6201438848920864,\n",
       " 0.6201438848920864]"
      ]
     },
     "execution_count": 84,
     "metadata": {},
     "output_type": "execute_result"
    }
   ],
   "source": [
    "under_accu"
   ]
  },
  {
   "cell_type": "code",
   "execution_count": 85,
   "id": "1eb4ec65",
   "metadata": {},
   "outputs": [],
   "source": [
    "final_df['Under_smapling']=under_accu"
   ]
  },
  {
   "cell_type": "code",
   "execution_count": 86,
   "id": "d5205e20",
   "metadata": {},
   "outputs": [
    {
     "data": {
      "text/html": [
       "<div>\n",
       "<style scoped>\n",
       "    .dataframe tbody tr th:only-of-type {\n",
       "        vertical-align: middle;\n",
       "    }\n",
       "\n",
       "    .dataframe tbody tr th {\n",
       "        vertical-align: top;\n",
       "    }\n",
       "\n",
       "    .dataframe thead th {\n",
       "        text-align: right;\n",
       "    }\n",
       "</style>\n",
       "<table border=\"1\" class=\"dataframe\">\n",
       "  <thead>\n",
       "    <tr style=\"text-align: right;\">\n",
       "      <th></th>\n",
       "      <th>Algorithm</th>\n",
       "      <th>Without sampling</th>\n",
       "      <th>SMOTETomek</th>\n",
       "      <th>SMOTETomek_K_Fold</th>\n",
       "      <th>SMOTETomek_Stratified_K_Fold</th>\n",
       "      <th>Under_smapling</th>\n",
       "    </tr>\n",
       "  </thead>\n",
       "  <tbody>\n",
       "    <tr>\n",
       "      <th>0</th>\n",
       "      <td>LogisticRegression</td>\n",
       "      <td>0.780469</td>\n",
       "      <td>0.827298</td>\n",
       "      <td>0.777661</td>\n",
       "      <td>0.809564</td>\n",
       "      <td>0.664748</td>\n",
       "    </tr>\n",
       "    <tr>\n",
       "      <th>1</th>\n",
       "      <td>KNNClaccification</td>\n",
       "      <td>0.757759</td>\n",
       "      <td>0.705292</td>\n",
       "      <td>0.564496</td>\n",
       "      <td>0.707441</td>\n",
       "      <td>0.564029</td>\n",
       "    </tr>\n",
       "    <tr>\n",
       "      <th>2</th>\n",
       "      <td>AdaBoostClassifier</td>\n",
       "      <td>0.785768</td>\n",
       "      <td>0.845125</td>\n",
       "      <td>0.797165</td>\n",
       "      <td>0.822942</td>\n",
       "      <td>0.657554</td>\n",
       "    </tr>\n",
       "    <tr>\n",
       "      <th>3</th>\n",
       "      <td>DecisionTreeClassifier</td>\n",
       "      <td>0.726722</td>\n",
       "      <td>0.814485</td>\n",
       "      <td>0.788673</td>\n",
       "      <td>0.798844</td>\n",
       "      <td>0.620144</td>\n",
       "    </tr>\n",
       "    <tr>\n",
       "      <th>4</th>\n",
       "      <td>XGBClassifier</td>\n",
       "      <td>0.726722</td>\n",
       "      <td>0.814485</td>\n",
       "      <td>0.843562</td>\n",
       "      <td>0.845936</td>\n",
       "      <td>0.620144</td>\n",
       "    </tr>\n",
       "  </tbody>\n",
       "</table>\n",
       "</div>"
      ],
      "text/plain": [
       "                Algorithm  Without sampling  SMOTETomek  SMOTETomek_K_Fold  \\\n",
       "0      LogisticRegression          0.780469    0.827298           0.777661   \n",
       "1       KNNClaccification          0.757759    0.705292           0.564496   \n",
       "2      AdaBoostClassifier          0.785768    0.845125           0.797165   \n",
       "3  DecisionTreeClassifier          0.726722    0.814485           0.788673   \n",
       "4           XGBClassifier          0.726722    0.814485           0.843562   \n",
       "\n",
       "   SMOTETomek_Stratified_K_Fold  Under_smapling  \n",
       "0                      0.809564        0.664748  \n",
       "1                      0.707441        0.564029  \n",
       "2                      0.822942        0.657554  \n",
       "3                      0.798844        0.620144  \n",
       "4                      0.845936        0.620144  "
      ]
     },
     "execution_count": 86,
     "metadata": {},
     "output_type": "execute_result"
    }
   ],
   "source": [
    "final_df"
   ]
  },
  {
   "cell_type": "code",
   "execution_count": 87,
   "id": "0a91999c",
   "metadata": {},
   "outputs": [
    {
     "data": {
      "text/html": [
       "<div>\n",
       "<style scoped>\n",
       "    .dataframe tbody tr th:only-of-type {\n",
       "        vertical-align: middle;\n",
       "    }\n",
       "\n",
       "    .dataframe tbody tr th {\n",
       "        vertical-align: top;\n",
       "    }\n",
       "\n",
       "    .dataframe thead th {\n",
       "        text-align: right;\n",
       "    }\n",
       "</style>\n",
       "<table border=\"1\" class=\"dataframe\">\n",
       "  <thead>\n",
       "    <tr style=\"text-align: right;\">\n",
       "      <th></th>\n",
       "      <th>Algorithm</th>\n",
       "      <th>Accuracy</th>\n",
       "    </tr>\n",
       "  </thead>\n",
       "  <tbody>\n",
       "    <tr>\n",
       "      <th>0</th>\n",
       "      <td>LogisticRegression</td>\n",
       "      <td>0.664748</td>\n",
       "    </tr>\n",
       "    <tr>\n",
       "      <th>1</th>\n",
       "      <td>KNNClaccification</td>\n",
       "      <td>0.564029</td>\n",
       "    </tr>\n",
       "    <tr>\n",
       "      <th>2</th>\n",
       "      <td>AdaBoostClassifier</td>\n",
       "      <td>0.657554</td>\n",
       "    </tr>\n",
       "    <tr>\n",
       "      <th>3</th>\n",
       "      <td>DecisionTreeClassifier</td>\n",
       "      <td>0.620144</td>\n",
       "    </tr>\n",
       "    <tr>\n",
       "      <th>4</th>\n",
       "      <td>XGBClassifier</td>\n",
       "      <td>0.620144</td>\n",
       "    </tr>\n",
       "  </tbody>\n",
       "</table>\n",
       "</div>"
      ],
      "text/plain": [
       "                Algorithm  Accuracy\n",
       "0      LogisticRegression  0.664748\n",
       "1       KNNClaccification  0.564029\n",
       "2      AdaBoostClassifier  0.657554\n",
       "3  DecisionTreeClassifier  0.620144\n",
       "4           XGBClassifier  0.620144"
      ]
     },
     "execution_count": 87,
     "metadata": {},
     "output_type": "execute_result"
    }
   ],
   "source": [
    "under_samp=dataframe(under_accu)\n",
    "under_samp"
   ]
  },
  {
   "cell_type": "code",
   "execution_count": 88,
   "id": "8685679d",
   "metadata": {},
   "outputs": [
    {
     "data": {
      "image/png": "[encoded data removed]",
      "text/plain": [
       "<Figure size 1080x360 with 1 Axes>"
      ]
     },
     "metadata": {},
     "output_type": "display_data"
    }
   ],
   "source": [
    "sns.set()\n",
    "plt.title('Accuracy Comparison after under sampling')\n",
    "sns.barplot(y=\"Algorithm\",x='Accuracy',data=under_samp,palette='Set2')\n",
    "sns.set(rc={'figure.figsize':(15,5)})\n",
    "#k fold"
   ]
  },
  {
   "cell_type": "markdown",
   "id": "bd13dada",
   "metadata": {},
   "source": [
    "# K fold cross validation"
   ]
  },
  {
   "cell_type": "code",
   "execution_count": 89,
   "id": "7e51719f",
   "metadata": {},
   "outputs": [
    {
     "name": "stdout",
     "output_type": "stream",
     "text": [
      "                Algorithm  Accuracy\n",
      "0      LogisticRegression  0.372662\n",
      "1       KNNClaccification  0.071942\n",
      "2      AdaBoostClassifier  0.383453\n",
      "3  DecisionTreeClassifier  0.411871\n",
      "4           XGBClassifier  0.377338\n"
     ]
    }
   ],
   "source": [
    "model_name,under_acc_kf=crossval(new_x, new_y,kfold)\n",
    "under_kfold=dataframe(under_acc_kf)\n",
    "print(under_kfold)"
   ]
  },
  {
   "cell_type": "code",
   "execution_count": 90,
   "id": "9ffe3094",
   "metadata": {},
   "outputs": [
    {
     "data": {
      "image/png": "[encoded data removed]",
      "text/plain": [
       "<Figure size 1080x360 with 1 Axes>"
      ]
     },
     "metadata": {},
     "output_type": "display_data"
    }
   ],
   "source": [
    "sns.set()\n",
    "plt.title('Accuracy Comparison after Near Miss undersampling Technique and K fold validation')\n",
    "sns.barplot(y=\"Algorithm\",x='Accuracy',data=under_kfold, palette='Set2')\n",
    "sns.set(rc={'figure.figsize':(15,5)})"
   ]
  },
  {
   "cell_type": "code",
   "execution_count": 91,
   "id": "bf105db2",
   "metadata": {},
   "outputs": [
    {
     "data": {
      "text/html": [
       "<div>\n",
       "<style scoped>\n",
       "    .dataframe tbody tr th:only-of-type {\n",
       "        vertical-align: middle;\n",
       "    }\n",
       "\n",
       "    .dataframe tbody tr th {\n",
       "        vertical-align: top;\n",
       "    }\n",
       "\n",
       "    .dataframe thead th {\n",
       "        text-align: right;\n",
       "    }\n",
       "</style>\n",
       "<table border=\"1\" class=\"dataframe\">\n",
       "  <thead>\n",
       "    <tr style=\"text-align: right;\">\n",
       "      <th></th>\n",
       "      <th>Algorithm</th>\n",
       "      <th>Without sampling</th>\n",
       "      <th>SMOTETomek</th>\n",
       "      <th>SMOTETomek_K_Fold</th>\n",
       "      <th>SMOTETomek_Stratified_K_Fold</th>\n",
       "      <th>Under_smapling</th>\n",
       "      <th>Under_sampling_KFold</th>\n",
       "    </tr>\n",
       "  </thead>\n",
       "  <tbody>\n",
       "    <tr>\n",
       "      <th>0</th>\n",
       "      <td>LogisticRegression</td>\n",
       "      <td>0.780469</td>\n",
       "      <td>0.827298</td>\n",
       "      <td>0.777661</td>\n",
       "      <td>0.809564</td>\n",
       "      <td>0.664748</td>\n",
       "      <td>0.372662</td>\n",
       "    </tr>\n",
       "    <tr>\n",
       "      <th>1</th>\n",
       "      <td>KNNClaccification</td>\n",
       "      <td>0.757759</td>\n",
       "      <td>0.705292</td>\n",
       "      <td>0.564496</td>\n",
       "      <td>0.707441</td>\n",
       "      <td>0.564029</td>\n",
       "      <td>0.071942</td>\n",
       "    </tr>\n",
       "    <tr>\n",
       "      <th>2</th>\n",
       "      <td>AdaBoostClassifier</td>\n",
       "      <td>0.785768</td>\n",
       "      <td>0.845125</td>\n",
       "      <td>0.797165</td>\n",
       "      <td>0.822942</td>\n",
       "      <td>0.657554</td>\n",
       "      <td>0.383453</td>\n",
       "    </tr>\n",
       "    <tr>\n",
       "      <th>3</th>\n",
       "      <td>DecisionTreeClassifier</td>\n",
       "      <td>0.726722</td>\n",
       "      <td>0.814485</td>\n",
       "      <td>0.788673</td>\n",
       "      <td>0.798844</td>\n",
       "      <td>0.620144</td>\n",
       "      <td>0.411871</td>\n",
       "    </tr>\n",
       "    <tr>\n",
       "      <th>4</th>\n",
       "      <td>XGBClassifier</td>\n",
       "      <td>0.726722</td>\n",
       "      <td>0.814485</td>\n",
       "      <td>0.843562</td>\n",
       "      <td>0.845936</td>\n",
       "      <td>0.620144</td>\n",
       "      <td>0.377338</td>\n",
       "    </tr>\n",
       "  </tbody>\n",
       "</table>\n",
       "</div>"
      ],
      "text/plain": [
       "                Algorithm  Without sampling  SMOTETomek  SMOTETomek_K_Fold  \\\n",
       "0      LogisticRegression          0.780469    0.827298           0.777661   \n",
       "1       KNNClaccification          0.757759    0.705292           0.564496   \n",
       "2      AdaBoostClassifier          0.785768    0.845125           0.797165   \n",
       "3  DecisionTreeClassifier          0.726722    0.814485           0.788673   \n",
       "4           XGBClassifier          0.726722    0.814485           0.843562   \n",
       "\n",
       "   SMOTETomek_Stratified_K_Fold  Under_smapling  Under_sampling_KFold  \n",
       "0                      0.809564        0.664748              0.372662  \n",
       "1                      0.707441        0.564029              0.071942  \n",
       "2                      0.822942        0.657554              0.383453  \n",
       "3                      0.798844        0.620144              0.411871  \n",
       "4                      0.845936        0.620144              0.377338  "
      ]
     },
     "execution_count": 91,
     "metadata": {},
     "output_type": "execute_result"
    }
   ],
   "source": [
    "final_df['Under_sampling_KFold']=under_acc_kf\n",
    "final_df"
   ]
  },
  {
   "cell_type": "markdown",
   "id": "d451664e",
   "metadata": {},
   "source": [
    "# Stratified K fold cross validation"
   ]
  },
  {
   "cell_type": "code",
   "execution_count": 92,
   "id": "5f08d9a6",
   "metadata": {},
   "outputs": [
    {
     "name": "stdout",
     "output_type": "stream",
     "text": [
      "                Algorithm  Accuracy\n",
      "0      LogisticRegression  0.649281\n",
      "1       KNNClaccification  0.532374\n",
      "2      AdaBoostClassifier  0.637410\n",
      "3  DecisionTreeClassifier  0.566187\n",
      "4           XGBClassifier  0.598921\n"
     ]
    }
   ],
   "source": [
    "model_name,under_acc_st=crossval(new_x , new_y,st)\n",
    "\n",
    "under_st=dataframe(under_acc_st)\n",
    "print(under_st)"
   ]
  },
  {
   "cell_type": "code",
   "execution_count": 93,
   "id": "c790566b",
   "metadata": {},
   "outputs": [
    {
     "data": {
      "image/png": "[encoded data removed]",
      "text/plain": [
       "<Figure size 1080x360 with 1 Axes>"
      ]
     },
     "metadata": {},
     "output_type": "display_data"
    }
   ],
   "source": [
    "sns.set()\n",
    "plt.title('Accuracy Comparison after Synthetic Minority Oversampling Technique and stratified K fold validation ')\n",
    "sns.barplot(y=\"Algorithm\",x='Accuracy',data=under_st,palette='Set2')\n",
    "sns.set(rc={'figure.figsize':(15,5)})"
   ]
  },
  {
   "cell_type": "code",
   "execution_count": 94,
   "id": "1af35d17",
   "metadata": {},
   "outputs": [
    {
     "data": {
      "text/html": [
       "<div>\n",
       "<style scoped>\n",
       "    .dataframe tbody tr th:only-of-type {\n",
       "        vertical-align: middle;\n",
       "    }\n",
       "\n",
       "    .dataframe tbody tr th {\n",
       "        vertical-align: top;\n",
       "    }\n",
       "\n",
       "    .dataframe thead th {\n",
       "        text-align: right;\n",
       "    }\n",
       "</style>\n",
       "<table border=\"1\" class=\"dataframe\">\n",
       "  <thead>\n",
       "    <tr style=\"text-align: right;\">\n",
       "      <th></th>\n",
       "      <th>Algorithm</th>\n",
       "      <th>Without sampling</th>\n",
       "      <th>SMOTETomek</th>\n",
       "      <th>SMOTETomek_K_Fold</th>\n",
       "      <th>SMOTETomek_Stratified_K_Fold</th>\n",
       "      <th>Under_smapling</th>\n",
       "      <th>Under_sampling_KFold</th>\n",
       "      <th>Under_smapling_stra_KFold</th>\n",
       "    </tr>\n",
       "  </thead>\n",
       "  <tbody>\n",
       "    <tr>\n",
       "      <th>0</th>\n",
       "      <td>LogisticRegression</td>\n",
       "      <td>0.780469</td>\n",
       "      <td>0.827298</td>\n",
       "      <td>0.777661</td>\n",
       "      <td>0.809564</td>\n",
       "      <td>0.664748</td>\n",
       "      <td>0.372662</td>\n",
       "      <td>0.649281</td>\n",
       "    </tr>\n",
       "    <tr>\n",
       "      <th>1</th>\n",
       "      <td>KNNClaccification</td>\n",
       "      <td>0.757759</td>\n",
       "      <td>0.705292</td>\n",
       "      <td>0.564496</td>\n",
       "      <td>0.707441</td>\n",
       "      <td>0.564029</td>\n",
       "      <td>0.071942</td>\n",
       "      <td>0.532374</td>\n",
       "    </tr>\n",
       "    <tr>\n",
       "      <th>2</th>\n",
       "      <td>AdaBoostClassifier</td>\n",
       "      <td>0.785768</td>\n",
       "      <td>0.845125</td>\n",
       "      <td>0.797165</td>\n",
       "      <td>0.822942</td>\n",
       "      <td>0.657554</td>\n",
       "      <td>0.383453</td>\n",
       "      <td>0.637410</td>\n",
       "    </tr>\n",
       "    <tr>\n",
       "      <th>3</th>\n",
       "      <td>DecisionTreeClassifier</td>\n",
       "      <td>0.726722</td>\n",
       "      <td>0.814485</td>\n",
       "      <td>0.788673</td>\n",
       "      <td>0.798844</td>\n",
       "      <td>0.620144</td>\n",
       "      <td>0.411871</td>\n",
       "      <td>0.566187</td>\n",
       "    </tr>\n",
       "    <tr>\n",
       "      <th>4</th>\n",
       "      <td>XGBClassifier</td>\n",
       "      <td>0.726722</td>\n",
       "      <td>0.814485</td>\n",
       "      <td>0.843562</td>\n",
       "      <td>0.845936</td>\n",
       "      <td>0.620144</td>\n",
       "      <td>0.377338</td>\n",
       "      <td>0.598921</td>\n",
       "    </tr>\n",
       "  </tbody>\n",
       "</table>\n",
       "</div>"
      ],
      "text/plain": [
       "                Algorithm  Without sampling  SMOTETomek  SMOTETomek_K_Fold  \\\n",
       "0      LogisticRegression          0.780469    0.827298           0.777661   \n",
       "1       KNNClaccification          0.757759    0.705292           0.564496   \n",
       "2      AdaBoostClassifier          0.785768    0.845125           0.797165   \n",
       "3  DecisionTreeClassifier          0.726722    0.814485           0.788673   \n",
       "4           XGBClassifier          0.726722    0.814485           0.843562   \n",
       "\n",
       "   SMOTETomek_Stratified_K_Fold  Under_smapling  Under_sampling_KFold  \\\n",
       "0                      0.809564        0.664748              0.372662   \n",
       "1                      0.707441        0.564029              0.071942   \n",
       "2                      0.822942        0.657554              0.383453   \n",
       "3                      0.798844        0.620144              0.411871   \n",
       "4                      0.845936        0.620144              0.377338   \n",
       "\n",
       "   Under_smapling_stra_KFold  \n",
       "0                   0.649281  \n",
       "1                   0.532374  \n",
       "2                   0.637410  \n",
       "3                   0.566187  \n",
       "4                   0.598921  "
      ]
     },
     "execution_count": 94,
     "metadata": {},
     "output_type": "execute_result"
    }
   ],
   "source": [
    "final_df['Under_smapling_stra_KFold']=under_acc_st\n",
    "final_df"
   ]
  },
  {
   "cell_type": "markdown",
   "id": "67200322",
   "metadata": {},
   "source": [
    "# Leave One Out Cross Validation"
   ]
  },
  {
   "cell_type": "code",
   "execution_count": 95,
   "id": "68e4c930",
   "metadata": {},
   "outputs": [],
   "source": [
    "#model_name,under_acc_le=crossval(new_x , new_y,LeaveOneOut())\n",
    "\n",
    "#under_le=dataframe(under_acc_le)\n",
    "#print(under_le)\n",
    "\n",
    "#sns.set()\n",
    "#plt.title('Accuracy Comparison after Synthetic Minority Oversampling Technique and stratified K fold validation ')\n",
    "#sns.barplot(y=\"Algorithm\",x='Accuracy',data=under_le,palette='Set2')\n",
    "#sns.set(rc={'figure.figsize':(15,5)})"
   ]
  },
  {
   "cell_type": "markdown",
   "id": "734654fa",
   "metadata": {},
   "source": [
    "# Task: 4"
   ]
  },
  {
   "cell_type": "code",
   "execution_count": 96,
   "id": "22af2c66",
   "metadata": {},
   "outputs": [],
   "source": [
    "#task:4 Do Over sampling on given dataset and Create ML model and evaluate model by cross validation again"
   ]
  },
  {
   "cell_type": "markdown",
   "id": "d63421f2",
   "metadata": {},
   "source": [
    "# Over Sampling"
   ]
  },
  {
   "cell_type": "code",
   "execution_count": 97,
   "id": "3d5ffcef",
   "metadata": {},
   "outputs": [],
   "source": [
    "from imblearn.over_sampling import RandomOverSampler"
   ]
  },
  {
   "cell_type": "code",
   "execution_count": 98,
   "id": "fa953e48",
   "metadata": {},
   "outputs": [],
   "source": [
    "over = RandomOverSampler(random_state=100)"
   ]
  },
  {
   "cell_type": "code",
   "execution_count": 99,
   "id": "3c14d813",
   "metadata": {},
   "outputs": [],
   "source": [
    "xo, yo = over.fit_resample(x,y)"
   ]
  },
  {
   "cell_type": "code",
   "execution_count": 100,
   "id": "0325761e",
   "metadata": {},
   "outputs": [],
   "source": [
    "xtrain3,xtest3,ytrain3,ytest3=train_test_split(xo, yo,train_size=0.75,random_state=42)"
   ]
  },
  {
   "cell_type": "code",
   "execution_count": 101,
   "id": "5eab3276",
   "metadata": {},
   "outputs": [
    {
     "name": "stdout",
     "output_type": "stream",
     "text": [
      "                Algorithm  Accuracy\n",
      "0      LogisticRegression  0.746146\n",
      "1       KNNClaccification  0.661871\n",
      "2      AdaBoostClassifier  0.743577\n",
      "3  DecisionTreeClassifier  0.852004\n",
      "4           XGBClassifier  0.852004\n"
     ]
    }
   ],
   "source": [
    "model_name,over_accu=model(xtrain3,ytrain3,xtest3,ytest3)\n",
    "over=dataframe(over_accu)\n",
    "print(over)"
   ]
  },
  {
   "cell_type": "code",
   "execution_count": 102,
   "id": "d3248cef",
   "metadata": {},
   "outputs": [
    {
     "data": {
      "image/png": "[encoded data removed]",
      "text/plain": [
       "<Figure size 1080x360 with 1 Axes>"
      ]
     },
     "metadata": {},
     "output_type": "display_data"
    }
   ],
   "source": [
    "sns.set()\n",
    "plt.title('Accuracy Comparison after Over sampling')\n",
    "sns.barplot(y=\"Algorithm\",x='Accuracy',data=over,palette='Set2')\n",
    "sns.set(rc={'figure.figsize':(15,5)})"
   ]
  },
  {
   "cell_type": "code",
   "execution_count": 103,
   "id": "6b8adc80",
   "metadata": {},
   "outputs": [
    {
     "data": {
      "text/html": [
       "<div>\n",
       "<style scoped>\n",
       "    .dataframe tbody tr th:only-of-type {\n",
       "        vertical-align: middle;\n",
       "    }\n",
       "\n",
       "    .dataframe tbody tr th {\n",
       "        vertical-align: top;\n",
       "    }\n",
       "\n",
       "    .dataframe thead th {\n",
       "        text-align: right;\n",
       "    }\n",
       "</style>\n",
       "<table border=\"1\" class=\"dataframe\">\n",
       "  <thead>\n",
       "    <tr style=\"text-align: right;\">\n",
       "      <th></th>\n",
       "      <th>Algorithm</th>\n",
       "      <th>Without sampling</th>\n",
       "      <th>SMOTETomek</th>\n",
       "      <th>SMOTETomek_K_Fold</th>\n",
       "      <th>SMOTETomek_Stratified_K_Fold</th>\n",
       "      <th>Under_smapling</th>\n",
       "      <th>Under_sampling_KFold</th>\n",
       "      <th>Under_smapling_stra_KFold</th>\n",
       "      <th>Over_sampling</th>\n",
       "    </tr>\n",
       "  </thead>\n",
       "  <tbody>\n",
       "    <tr>\n",
       "      <th>0</th>\n",
       "      <td>LogisticRegression</td>\n",
       "      <td>0.780469</td>\n",
       "      <td>0.827298</td>\n",
       "      <td>0.777661</td>\n",
       "      <td>0.809564</td>\n",
       "      <td>0.664748</td>\n",
       "      <td>0.372662</td>\n",
       "      <td>0.649281</td>\n",
       "      <td>0.746146</td>\n",
       "    </tr>\n",
       "    <tr>\n",
       "      <th>1</th>\n",
       "      <td>KNNClaccification</td>\n",
       "      <td>0.757759</td>\n",
       "      <td>0.705292</td>\n",
       "      <td>0.564496</td>\n",
       "      <td>0.707441</td>\n",
       "      <td>0.564029</td>\n",
       "      <td>0.071942</td>\n",
       "      <td>0.532374</td>\n",
       "      <td>0.661871</td>\n",
       "    </tr>\n",
       "    <tr>\n",
       "      <th>2</th>\n",
       "      <td>AdaBoostClassifier</td>\n",
       "      <td>0.785768</td>\n",
       "      <td>0.845125</td>\n",
       "      <td>0.797165</td>\n",
       "      <td>0.822942</td>\n",
       "      <td>0.657554</td>\n",
       "      <td>0.383453</td>\n",
       "      <td>0.637410</td>\n",
       "      <td>0.743577</td>\n",
       "    </tr>\n",
       "    <tr>\n",
       "      <th>3</th>\n",
       "      <td>DecisionTreeClassifier</td>\n",
       "      <td>0.726722</td>\n",
       "      <td>0.814485</td>\n",
       "      <td>0.788673</td>\n",
       "      <td>0.798844</td>\n",
       "      <td>0.620144</td>\n",
       "      <td>0.411871</td>\n",
       "      <td>0.566187</td>\n",
       "      <td>0.852004</td>\n",
       "    </tr>\n",
       "    <tr>\n",
       "      <th>4</th>\n",
       "      <td>XGBClassifier</td>\n",
       "      <td>0.726722</td>\n",
       "      <td>0.814485</td>\n",
       "      <td>0.843562</td>\n",
       "      <td>0.845936</td>\n",
       "      <td>0.620144</td>\n",
       "      <td>0.377338</td>\n",
       "      <td>0.598921</td>\n",
       "      <td>0.852004</td>\n",
       "    </tr>\n",
       "  </tbody>\n",
       "</table>\n",
       "</div>"
      ],
      "text/plain": [
       "                Algorithm  Without sampling  SMOTETomek  SMOTETomek_K_Fold  \\\n",
       "0      LogisticRegression          0.780469    0.827298           0.777661   \n",
       "1       KNNClaccification          0.757759    0.705292           0.564496   \n",
       "2      AdaBoostClassifier          0.785768    0.845125           0.797165   \n",
       "3  DecisionTreeClassifier          0.726722    0.814485           0.788673   \n",
       "4           XGBClassifier          0.726722    0.814485           0.843562   \n",
       "\n",
       "   SMOTETomek_Stratified_K_Fold  Under_smapling  Under_sampling_KFold  \\\n",
       "0                      0.809564        0.664748              0.372662   \n",
       "1                      0.707441        0.564029              0.071942   \n",
       "2                      0.822942        0.657554              0.383453   \n",
       "3                      0.798844        0.620144              0.411871   \n",
       "4                      0.845936        0.620144              0.377338   \n",
       "\n",
       "   Under_smapling_stra_KFold  Over_sampling  \n",
       "0                   0.649281       0.746146  \n",
       "1                   0.532374       0.661871  \n",
       "2                   0.637410       0.743577  \n",
       "3                   0.566187       0.852004  \n",
       "4                   0.598921       0.852004  "
      ]
     },
     "execution_count": 103,
     "metadata": {},
     "output_type": "execute_result"
    }
   ],
   "source": [
    "final_df['Over_sampling']=over_accu\n",
    "final_df"
   ]
  },
  {
   "cell_type": "markdown",
   "id": "9ba70224",
   "metadata": {},
   "source": [
    "# K fold cross Validation"
   ]
  },
  {
   "cell_type": "code",
   "execution_count": 104,
   "id": "5baabcf9",
   "metadata": {},
   "outputs": [
    {
     "name": "stdout",
     "output_type": "stream",
     "text": [
      "                Algorithm  Accuracy\n",
      "0      LogisticRegression  0.700411\n",
      "1       KNNClaccification  0.531346\n",
      "2      AdaBoostClassifier  0.707477\n",
      "3  DecisionTreeClassifier  0.870118\n",
      "4           XGBClassifier  0.848664\n"
     ]
    }
   ],
   "source": [
    "model_name,over_acc_kf=crossval(xo,yo,kfold)\n",
    "over_kfold=dataframe(over_acc_kf)\n",
    "print(over_kfold)"
   ]
  },
  {
   "cell_type": "code",
   "execution_count": 105,
   "id": "fb29177c",
   "metadata": {},
   "outputs": [
    {
     "data": {
      "image/png": "[encoded data removed]",
      "text/plain": [
       "<Figure size 1080x360 with 1 Axes>"
      ]
     },
     "metadata": {},
     "output_type": "display_data"
    }
   ],
   "source": [
    "sns.set()\n",
    "plt.title('Accuracy Comparison after Oversampling Technique and K fold validation ')\n",
    "sns.barplot(y=\"Algorithm\",x='Accuracy',data=over_kfold,palette='Set2')\n",
    "sns.set(rc={'figure.figsize':(15,5)})"
   ]
  },
  {
   "cell_type": "code",
   "execution_count": 106,
   "id": "aeef0668",
   "metadata": {},
   "outputs": [
    {
     "data": {
      "text/html": [
       "<div>\n",
       "<style scoped>\n",
       "    .dataframe tbody tr th:only-of-type {\n",
       "        vertical-align: middle;\n",
       "    }\n",
       "\n",
       "    .dataframe tbody tr th {\n",
       "        vertical-align: top;\n",
       "    }\n",
       "\n",
       "    .dataframe thead th {\n",
       "        text-align: right;\n",
       "    }\n",
       "</style>\n",
       "<table border=\"1\" class=\"dataframe\">\n",
       "  <thead>\n",
       "    <tr style=\"text-align: right;\">\n",
       "      <th></th>\n",
       "      <th>Algorithm</th>\n",
       "      <th>Without sampling</th>\n",
       "      <th>SMOTETomek</th>\n",
       "      <th>SMOTETomek_K_Fold</th>\n",
       "      <th>SMOTETomek_Stratified_K_Fold</th>\n",
       "      <th>Under_smapling</th>\n",
       "      <th>Under_sampling_KFold</th>\n",
       "      <th>Under_smapling_stra_KFold</th>\n",
       "      <th>Over_sampling</th>\n",
       "      <th>Over_smapling_Kfold</th>\n",
       "    </tr>\n",
       "  </thead>\n",
       "  <tbody>\n",
       "    <tr>\n",
       "      <th>0</th>\n",
       "      <td>LogisticRegression</td>\n",
       "      <td>0.780469</td>\n",
       "      <td>0.827298</td>\n",
       "      <td>0.777661</td>\n",
       "      <td>0.809564</td>\n",
       "      <td>0.664748</td>\n",
       "      <td>0.372662</td>\n",
       "      <td>0.649281</td>\n",
       "      <td>0.746146</td>\n",
       "      <td>0.700411</td>\n",
       "    </tr>\n",
       "    <tr>\n",
       "      <th>1</th>\n",
       "      <td>KNNClaccification</td>\n",
       "      <td>0.757759</td>\n",
       "      <td>0.705292</td>\n",
       "      <td>0.564496</td>\n",
       "      <td>0.707441</td>\n",
       "      <td>0.564029</td>\n",
       "      <td>0.071942</td>\n",
       "      <td>0.532374</td>\n",
       "      <td>0.661871</td>\n",
       "      <td>0.531346</td>\n",
       "    </tr>\n",
       "    <tr>\n",
       "      <th>2</th>\n",
       "      <td>AdaBoostClassifier</td>\n",
       "      <td>0.785768</td>\n",
       "      <td>0.845125</td>\n",
       "      <td>0.797165</td>\n",
       "      <td>0.822942</td>\n",
       "      <td>0.657554</td>\n",
       "      <td>0.383453</td>\n",
       "      <td>0.637410</td>\n",
       "      <td>0.743577</td>\n",
       "      <td>0.707477</td>\n",
       "    </tr>\n",
       "    <tr>\n",
       "      <th>3</th>\n",
       "      <td>DecisionTreeClassifier</td>\n",
       "      <td>0.726722</td>\n",
       "      <td>0.814485</td>\n",
       "      <td>0.788673</td>\n",
       "      <td>0.798844</td>\n",
       "      <td>0.620144</td>\n",
       "      <td>0.411871</td>\n",
       "      <td>0.566187</td>\n",
       "      <td>0.852004</td>\n",
       "      <td>0.870118</td>\n",
       "    </tr>\n",
       "    <tr>\n",
       "      <th>4</th>\n",
       "      <td>XGBClassifier</td>\n",
       "      <td>0.726722</td>\n",
       "      <td>0.814485</td>\n",
       "      <td>0.843562</td>\n",
       "      <td>0.845936</td>\n",
       "      <td>0.620144</td>\n",
       "      <td>0.377338</td>\n",
       "      <td>0.598921</td>\n",
       "      <td>0.852004</td>\n",
       "      <td>0.848664</td>\n",
       "    </tr>\n",
       "  </tbody>\n",
       "</table>\n",
       "</div>"
      ],
      "text/plain": [
       "                Algorithm  Without sampling  SMOTETomek  SMOTETomek_K_Fold  \\\n",
       "0      LogisticRegression          0.780469    0.827298           0.777661   \n",
       "1       KNNClaccification          0.757759    0.705292           0.564496   \n",
       "2      AdaBoostClassifier          0.785768    0.845125           0.797165   \n",
       "3  DecisionTreeClassifier          0.726722    0.814485           0.788673   \n",
       "4           XGBClassifier          0.726722    0.814485           0.843562   \n",
       "\n",
       "   SMOTETomek_Stratified_K_Fold  Under_smapling  Under_sampling_KFold  \\\n",
       "0                      0.809564        0.664748              0.372662   \n",
       "1                      0.707441        0.564029              0.071942   \n",
       "2                      0.822942        0.657554              0.383453   \n",
       "3                      0.798844        0.620144              0.411871   \n",
       "4                      0.845936        0.620144              0.377338   \n",
       "\n",
       "   Under_smapling_stra_KFold  Over_sampling  Over_smapling_Kfold  \n",
       "0                   0.649281       0.746146             0.700411  \n",
       "1                   0.532374       0.661871             0.531346  \n",
       "2                   0.637410       0.743577             0.707477  \n",
       "3                   0.566187       0.852004             0.870118  \n",
       "4                   0.598921       0.852004             0.848664  "
      ]
     },
     "execution_count": 106,
     "metadata": {},
     "output_type": "execute_result"
    }
   ],
   "source": [
    "final_df['Over_smapling_Kfold']=over_acc_kf\n",
    "final_df"
   ]
  },
  {
   "cell_type": "markdown",
   "id": "42b5f390",
   "metadata": {},
   "source": [
    "# Stratified k fold cross validation"
   ]
  },
  {
   "cell_type": "code",
   "execution_count": 107,
   "id": "6b7d80d1",
   "metadata": {},
   "outputs": [
    {
     "name": "stdout",
     "output_type": "stream",
     "text": [
      "                Algorithm  Accuracy\n",
      "0      LogisticRegression  0.752441\n",
      "1       KNNClaccification  0.684224\n",
      "2      AdaBoostClassifier  0.768885\n",
      "3  DecisionTreeClassifier  0.876156\n",
      "4           XGBClassifier  0.867934\n"
     ]
    }
   ],
   "source": [
    "model_name,over_acc_st=crossval(xo,yo,st)\n",
    "over_st=dataframe(over_acc_st)\n",
    "print(over_st)"
   ]
  },
  {
   "cell_type": "code",
   "execution_count": 108,
   "id": "d838873a",
   "metadata": {},
   "outputs": [
    {
     "data": {
      "image/png": "[encoded data removed]",
      "text/plain": [
       "<Figure size 1080x360 with 1 Axes>"
      ]
     },
     "metadata": {},
     "output_type": "display_data"
    }
   ],
   "source": [
    "sns.set()\n",
    "plt.title('Accuracy Comparison after Oversampling Technique and stratified K fold validation')\n",
    "sns.barplot(y=\"Algorithm\",x='Accuracy',data=over_st,palette='Set2')\n",
    "sns.set(rc={'figure.figsize':(15,5)})"
   ]
  },
  {
   "cell_type": "code",
   "execution_count": 109,
   "id": "3b158a6b",
   "metadata": {},
   "outputs": [
    {
     "data": {
      "text/html": [
       "<div>\n",
       "<style scoped>\n",
       "    .dataframe tbody tr th:only-of-type {\n",
       "        vertical-align: middle;\n",
       "    }\n",
       "\n",
       "    .dataframe tbody tr th {\n",
       "        vertical-align: top;\n",
       "    }\n",
       "\n",
       "    .dataframe thead th {\n",
       "        text-align: right;\n",
       "    }\n",
       "</style>\n",
       "<table border=\"1\" class=\"dataframe\">\n",
       "  <thead>\n",
       "    <tr style=\"text-align: right;\">\n",
       "      <th></th>\n",
       "      <th>Algorithm</th>\n",
       "      <th>Without sampling</th>\n",
       "      <th>SMOTETomek</th>\n",
       "      <th>SMOTETomek_K_Fold</th>\n",
       "      <th>SMOTETomek_Stratified_K_Fold</th>\n",
       "      <th>Under_smapling</th>\n",
       "      <th>Under_sampling_KFold</th>\n",
       "      <th>Under_smapling_stra_KFold</th>\n",
       "      <th>Over_sampling</th>\n",
       "      <th>Over_smapling_Kfold</th>\n",
       "      <th>Over_smapling_stra_Kfold</th>\n",
       "    </tr>\n",
       "  </thead>\n",
       "  <tbody>\n",
       "    <tr>\n",
       "      <th>0</th>\n",
       "      <td>LogisticRegression</td>\n",
       "      <td>0.780469</td>\n",
       "      <td>0.827298</td>\n",
       "      <td>0.777661</td>\n",
       "      <td>0.809564</td>\n",
       "      <td>0.664748</td>\n",
       "      <td>0.372662</td>\n",
       "      <td>0.649281</td>\n",
       "      <td>0.746146</td>\n",
       "      <td>0.700411</td>\n",
       "      <td>0.752441</td>\n",
       "    </tr>\n",
       "    <tr>\n",
       "      <th>1</th>\n",
       "      <td>KNNClaccification</td>\n",
       "      <td>0.757759</td>\n",
       "      <td>0.705292</td>\n",
       "      <td>0.564496</td>\n",
       "      <td>0.707441</td>\n",
       "      <td>0.564029</td>\n",
       "      <td>0.071942</td>\n",
       "      <td>0.532374</td>\n",
       "      <td>0.661871</td>\n",
       "      <td>0.531346</td>\n",
       "      <td>0.684224</td>\n",
       "    </tr>\n",
       "    <tr>\n",
       "      <th>2</th>\n",
       "      <td>AdaBoostClassifier</td>\n",
       "      <td>0.785768</td>\n",
       "      <td>0.845125</td>\n",
       "      <td>0.797165</td>\n",
       "      <td>0.822942</td>\n",
       "      <td>0.657554</td>\n",
       "      <td>0.383453</td>\n",
       "      <td>0.637410</td>\n",
       "      <td>0.743577</td>\n",
       "      <td>0.707477</td>\n",
       "      <td>0.768885</td>\n",
       "    </tr>\n",
       "    <tr>\n",
       "      <th>3</th>\n",
       "      <td>DecisionTreeClassifier</td>\n",
       "      <td>0.726722</td>\n",
       "      <td>0.814485</td>\n",
       "      <td>0.788673</td>\n",
       "      <td>0.798844</td>\n",
       "      <td>0.620144</td>\n",
       "      <td>0.411871</td>\n",
       "      <td>0.566187</td>\n",
       "      <td>0.852004</td>\n",
       "      <td>0.870118</td>\n",
       "      <td>0.876156</td>\n",
       "    </tr>\n",
       "    <tr>\n",
       "      <th>4</th>\n",
       "      <td>XGBClassifier</td>\n",
       "      <td>0.726722</td>\n",
       "      <td>0.814485</td>\n",
       "      <td>0.843562</td>\n",
       "      <td>0.845936</td>\n",
       "      <td>0.620144</td>\n",
       "      <td>0.377338</td>\n",
       "      <td>0.598921</td>\n",
       "      <td>0.852004</td>\n",
       "      <td>0.848664</td>\n",
       "      <td>0.867934</td>\n",
       "    </tr>\n",
       "  </tbody>\n",
       "</table>\n",
       "</div>"
      ],
      "text/plain": [
       "                Algorithm  Without sampling  SMOTETomek  SMOTETomek_K_Fold  \\\n",
       "0      LogisticRegression          0.780469    0.827298           0.777661   \n",
       "1       KNNClaccification          0.757759    0.705292           0.564496   \n",
       "2      AdaBoostClassifier          0.785768    0.845125           0.797165   \n",
       "3  DecisionTreeClassifier          0.726722    0.814485           0.788673   \n",
       "4           XGBClassifier          0.726722    0.814485           0.843562   \n",
       "\n",
       "   SMOTETomek_Stratified_K_Fold  Under_smapling  Under_sampling_KFold  \\\n",
       "0                      0.809564        0.664748              0.372662   \n",
       "1                      0.707441        0.564029              0.071942   \n",
       "2                      0.822942        0.657554              0.383453   \n",
       "3                      0.798844        0.620144              0.411871   \n",
       "4                      0.845936        0.620144              0.377338   \n",
       "\n",
       "   Under_smapling_stra_KFold  Over_sampling  Over_smapling_Kfold  \\\n",
       "0                   0.649281       0.746146             0.700411   \n",
       "1                   0.532374       0.661871             0.531346   \n",
       "2                   0.637410       0.743577             0.707477   \n",
       "3                   0.566187       0.852004             0.870118   \n",
       "4                   0.598921       0.852004             0.848664   \n",
       "\n",
       "   Over_smapling_stra_Kfold  \n",
       "0                  0.752441  \n",
       "1                  0.684224  \n",
       "2                  0.768885  \n",
       "3                  0.876156  \n",
       "4                  0.867934  "
      ]
     },
     "execution_count": 109,
     "metadata": {},
     "output_type": "execute_result"
    }
   ],
   "source": [
    "final_df['Over_smapling_stra_Kfold']=over_acc_st\n",
    "final_df"
   ]
  },
  {
   "cell_type": "markdown",
   "id": "355cb162",
   "metadata": {},
   "source": [
    "# Evaluation All Results"
   ]
  },
  {
   "cell_type": "code",
   "execution_count": 110,
   "id": "920841ea",
   "metadata": {},
   "outputs": [
    {
     "data": {
      "text/html": [
       "<div>\n",
       "<style scoped>\n",
       "    .dataframe tbody tr th:only-of-type {\n",
       "        vertical-align: middle;\n",
       "    }\n",
       "\n",
       "    .dataframe tbody tr th {\n",
       "        vertical-align: top;\n",
       "    }\n",
       "\n",
       "    .dataframe thead th {\n",
       "        text-align: right;\n",
       "    }\n",
       "</style>\n",
       "<table border=\"1\" class=\"dataframe\">\n",
       "  <thead>\n",
       "    <tr style=\"text-align: right;\">\n",
       "      <th></th>\n",
       "      <th>Algorithm</th>\n",
       "      <th>Without sampling</th>\n",
       "      <th>SMOTETomek</th>\n",
       "      <th>SMOTETomek_K_Fold</th>\n",
       "      <th>SMOTETomek_Stratified_K_Fold</th>\n",
       "      <th>Under_smapling</th>\n",
       "      <th>Under_sampling_KFold</th>\n",
       "      <th>Under_smapling_stra_KFold</th>\n",
       "      <th>Over_sampling</th>\n",
       "      <th>Over_smapling_Kfold</th>\n",
       "      <th>Over_smapling_stra_Kfold</th>\n",
       "    </tr>\n",
       "  </thead>\n",
       "  <tbody>\n",
       "    <tr>\n",
       "      <th>0</th>\n",
       "      <td>LogisticRegression</td>\n",
       "      <td>0.780469</td>\n",
       "      <td>0.827298</td>\n",
       "      <td>0.777661</td>\n",
       "      <td>0.809564</td>\n",
       "      <td>0.664748</td>\n",
       "      <td>0.372662</td>\n",
       "      <td>0.649281</td>\n",
       "      <td>0.746146</td>\n",
       "      <td>0.700411</td>\n",
       "      <td>0.752441</td>\n",
       "    </tr>\n",
       "    <tr>\n",
       "      <th>1</th>\n",
       "      <td>KNNClaccification</td>\n",
       "      <td>0.757759</td>\n",
       "      <td>0.705292</td>\n",
       "      <td>0.564496</td>\n",
       "      <td>0.707441</td>\n",
       "      <td>0.564029</td>\n",
       "      <td>0.071942</td>\n",
       "      <td>0.532374</td>\n",
       "      <td>0.661871</td>\n",
       "      <td>0.531346</td>\n",
       "      <td>0.684224</td>\n",
       "    </tr>\n",
       "    <tr>\n",
       "      <th>2</th>\n",
       "      <td>AdaBoostClassifier</td>\n",
       "      <td>0.785768</td>\n",
       "      <td>0.845125</td>\n",
       "      <td>0.797165</td>\n",
       "      <td>0.822942</td>\n",
       "      <td>0.657554</td>\n",
       "      <td>0.383453</td>\n",
       "      <td>0.637410</td>\n",
       "      <td>0.743577</td>\n",
       "      <td>0.707477</td>\n",
       "      <td>0.768885</td>\n",
       "    </tr>\n",
       "    <tr>\n",
       "      <th>3</th>\n",
       "      <td>DecisionTreeClassifier</td>\n",
       "      <td>0.726722</td>\n",
       "      <td>0.814485</td>\n",
       "      <td>0.788673</td>\n",
       "      <td>0.798844</td>\n",
       "      <td>0.620144</td>\n",
       "      <td>0.411871</td>\n",
       "      <td>0.566187</td>\n",
       "      <td>0.852004</td>\n",
       "      <td>0.870118</td>\n",
       "      <td>0.876156</td>\n",
       "    </tr>\n",
       "    <tr>\n",
       "      <th>4</th>\n",
       "      <td>XGBClassifier</td>\n",
       "      <td>0.726722</td>\n",
       "      <td>0.814485</td>\n",
       "      <td>0.843562</td>\n",
       "      <td>0.845936</td>\n",
       "      <td>0.620144</td>\n",
       "      <td>0.377338</td>\n",
       "      <td>0.598921</td>\n",
       "      <td>0.852004</td>\n",
       "      <td>0.848664</td>\n",
       "      <td>0.867934</td>\n",
       "    </tr>\n",
       "  </tbody>\n",
       "</table>\n",
       "</div>"
      ],
      "text/plain": [
       "                Algorithm  Without sampling  SMOTETomek  SMOTETomek_K_Fold  \\\n",
       "0      LogisticRegression          0.780469    0.827298           0.777661   \n",
       "1       KNNClaccification          0.757759    0.705292           0.564496   \n",
       "2      AdaBoostClassifier          0.785768    0.845125           0.797165   \n",
       "3  DecisionTreeClassifier          0.726722    0.814485           0.788673   \n",
       "4           XGBClassifier          0.726722    0.814485           0.843562   \n",
       "\n",
       "   SMOTETomek_Stratified_K_Fold  Under_smapling  Under_sampling_KFold  \\\n",
       "0                      0.809564        0.664748              0.372662   \n",
       "1                      0.707441        0.564029              0.071942   \n",
       "2                      0.822942        0.657554              0.383453   \n",
       "3                      0.798844        0.620144              0.411871   \n",
       "4                      0.845936        0.620144              0.377338   \n",
       "\n",
       "   Under_smapling_stra_KFold  Over_sampling  Over_smapling_Kfold  \\\n",
       "0                   0.649281       0.746146             0.700411   \n",
       "1                   0.532374       0.661871             0.531346   \n",
       "2                   0.637410       0.743577             0.707477   \n",
       "3                   0.566187       0.852004             0.870118   \n",
       "4                   0.598921       0.852004             0.848664   \n",
       "\n",
       "   Over_smapling_stra_Kfold  \n",
       "0                  0.752441  \n",
       "1                  0.684224  \n",
       "2                  0.768885  \n",
       "3                  0.876156  \n",
       "4                  0.867934  "
      ]
     },
     "execution_count": 110,
     "metadata": {},
     "output_type": "execute_result"
    }
   ],
   "source": [
    "final_df"
   ]
  },
  {
   "cell_type": "code",
   "execution_count": 111,
   "id": "aca6d91a",
   "metadata": {},
   "outputs": [],
   "source": [
    "final_df.to_csv('evaluation.csv')"
   ]
  },
  {
   "cell_type": "code",
   "execution_count": 112,
   "id": "4989abdb",
   "metadata": {},
   "outputs": [
    {
     "data": {
      "text/plain": [
       "0        LogisticRegression\n",
       "1         KNNClaccification\n",
       "2        AdaBoostClassifier\n",
       "3    DecisionTreeClassifier\n",
       "4             XGBClassifier\n",
       "Name: Algorithm, dtype: object"
      ]
     },
     "execution_count": 112,
     "metadata": {},
     "output_type": "execute_result"
    }
   ],
   "source": [
    "x_axis=final_df['Algorithm']\n",
    "x_axis"
   ]
  },
  {
   "cell_type": "code",
   "execution_count": 113,
   "id": "b4625065",
   "metadata": {},
   "outputs": [
    {
     "data": {
      "text/html": [
       "<div>\n",
       "<style scoped>\n",
       "    .dataframe tbody tr th:only-of-type {\n",
       "        vertical-align: middle;\n",
       "    }\n",
       "\n",
       "    .dataframe tbody tr th {\n",
       "        vertical-align: top;\n",
       "    }\n",
       "\n",
       "    .dataframe thead th {\n",
       "        text-align: right;\n",
       "    }\n",
       "</style>\n",
       "<table border=\"1\" class=\"dataframe\">\n",
       "  <thead>\n",
       "    <tr style=\"text-align: right;\">\n",
       "      <th></th>\n",
       "      <th>Without sampling</th>\n",
       "      <th>SMOTETomek</th>\n",
       "      <th>SMOTETomek_K_Fold</th>\n",
       "      <th>SMOTETomek_Stratified_K_Fold</th>\n",
       "      <th>Under_smapling</th>\n",
       "      <th>Under_sampling_KFold</th>\n",
       "      <th>Under_smapling_stra_KFold</th>\n",
       "      <th>Over_sampling</th>\n",
       "      <th>Over_smapling_Kfold</th>\n",
       "      <th>Over_smapling_stra_Kfold</th>\n",
       "    </tr>\n",
       "  </thead>\n",
       "  <tbody>\n",
       "    <tr>\n",
       "      <th>0</th>\n",
       "      <td>0.780469</td>\n",
       "      <td>0.827298</td>\n",
       "      <td>0.777661</td>\n",
       "      <td>0.809564</td>\n",
       "      <td>0.664748</td>\n",
       "      <td>0.372662</td>\n",
       "      <td>0.649281</td>\n",
       "      <td>0.746146</td>\n",
       "      <td>0.700411</td>\n",
       "      <td>0.752441</td>\n",
       "    </tr>\n",
       "    <tr>\n",
       "      <th>1</th>\n",
       "      <td>0.757759</td>\n",
       "      <td>0.705292</td>\n",
       "      <td>0.564496</td>\n",
       "      <td>0.707441</td>\n",
       "      <td>0.564029</td>\n",
       "      <td>0.071942</td>\n",
       "      <td>0.532374</td>\n",
       "      <td>0.661871</td>\n",
       "      <td>0.531346</td>\n",
       "      <td>0.684224</td>\n",
       "    </tr>\n",
       "    <tr>\n",
       "      <th>2</th>\n",
       "      <td>0.785768</td>\n",
       "      <td>0.845125</td>\n",
       "      <td>0.797165</td>\n",
       "      <td>0.822942</td>\n",
       "      <td>0.657554</td>\n",
       "      <td>0.383453</td>\n",
       "      <td>0.637410</td>\n",
       "      <td>0.743577</td>\n",
       "      <td>0.707477</td>\n",
       "      <td>0.768885</td>\n",
       "    </tr>\n",
       "    <tr>\n",
       "      <th>3</th>\n",
       "      <td>0.726722</td>\n",
       "      <td>0.814485</td>\n",
       "      <td>0.788673</td>\n",
       "      <td>0.798844</td>\n",
       "      <td>0.620144</td>\n",
       "      <td>0.411871</td>\n",
       "      <td>0.566187</td>\n",
       "      <td>0.852004</td>\n",
       "      <td>0.870118</td>\n",
       "      <td>0.876156</td>\n",
       "    </tr>\n",
       "    <tr>\n",
       "      <th>4</th>\n",
       "      <td>0.726722</td>\n",
       "      <td>0.814485</td>\n",
       "      <td>0.843562</td>\n",
       "      <td>0.845936</td>\n",
       "      <td>0.620144</td>\n",
       "      <td>0.377338</td>\n",
       "      <td>0.598921</td>\n",
       "      <td>0.852004</td>\n",
       "      <td>0.848664</td>\n",
       "      <td>0.867934</td>\n",
       "    </tr>\n",
       "  </tbody>\n",
       "</table>\n",
       "</div>"
      ],
      "text/plain": [
       "   Without sampling  SMOTETomek  SMOTETomek_K_Fold  \\\n",
       "0          0.780469    0.827298           0.777661   \n",
       "1          0.757759    0.705292           0.564496   \n",
       "2          0.785768    0.845125           0.797165   \n",
       "3          0.726722    0.814485           0.788673   \n",
       "4          0.726722    0.814485           0.843562   \n",
       "\n",
       "   SMOTETomek_Stratified_K_Fold  Under_smapling  Under_sampling_KFold  \\\n",
       "0                      0.809564        0.664748              0.372662   \n",
       "1                      0.707441        0.564029              0.071942   \n",
       "2                      0.822942        0.657554              0.383453   \n",
       "3                      0.798844        0.620144              0.411871   \n",
       "4                      0.845936        0.620144              0.377338   \n",
       "\n",
       "   Under_smapling_stra_KFold  Over_sampling  Over_smapling_Kfold  \\\n",
       "0                   0.649281       0.746146             0.700411   \n",
       "1                   0.532374       0.661871             0.531346   \n",
       "2                   0.637410       0.743577             0.707477   \n",
       "3                   0.566187       0.852004             0.870118   \n",
       "4                   0.598921       0.852004             0.848664   \n",
       "\n",
       "   Over_smapling_stra_Kfold  \n",
       "0                  0.752441  \n",
       "1                  0.684224  \n",
       "2                  0.768885  \n",
       "3                  0.876156  \n",
       "4                  0.867934  "
      ]
     },
     "execution_count": 113,
     "metadata": {},
     "output_type": "execute_result"
    }
   ],
   "source": [
    "y_axis=final_df.drop('Algorithm',axis=1)\n",
    "y_axis"
   ]
  },
  {
   "cell_type": "code",
   "execution_count": 114,
   "id": "01811869",
   "metadata": {},
   "outputs": [
    {
     "data": {
      "image/jpeg": "[encoded data removed]",
      "text/plain": [
       "<IPython.core.display.Image object>"
      ]
     },
     "execution_count": 114,
     "metadata": {},
     "output_type": "execute_result"
    }
   ],
   "source": [
    "from IPython.display import Image\n",
    "Image('Linkon.jpg')"
   ]
  },
  {
   "cell_type": "code",
   "execution_count": null,
   "id": "2ad75549",
   "metadata": {},
   "outputs": [],
   "source": []
  }
 ],
 "metadata": {
  "kernelspec": {
   "display_name": "Python 3 (ipykernel)",
   "language": "python",
   "name": "python3"
  },
  "language_info": {
   "codemirror_mode": {
    "name": "ipython",
    "version": 3
   },
   "file_extension": ".py",
   "mimetype": "text/x-python",
   "name": "python",
   "nbconvert_exporter": "python",
   "pygments_lexer": "ipython3",
   "version": "3.9.7"
  }
 },
 "nbformat": 4,
 "nbformat_minor": 5
}
